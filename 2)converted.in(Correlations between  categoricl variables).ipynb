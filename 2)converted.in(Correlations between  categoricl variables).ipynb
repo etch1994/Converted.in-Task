{
 "cells": [
  {
   "cell_type": "markdown",
   "metadata": {},
   "source": [
    "# coded by: Ahmed Hisham Elsayed "
   ]
  },
  {
   "cell_type": "markdown",
   "metadata": {},
   "source": [
    "## Check correlations beween all Categorical variables"
   ]
  },
  {
   "cell_type": "code",
   "execution_count": 1,
   "metadata": {},
   "outputs": [],
   "source": [
    "#import pandas \n",
    "import pandas as pd\n",
    "#data file path\n",
    "path__ = \"E:\\convirted in\\cleaned Data\\cleaneddf.xlsx\"\n",
    "#import the CSV file\n",
    "app__data = pd.read_excel(path__) "
   ]
  },
  {
   "cell_type": "code",
   "execution_count": 2,
   "metadata": {},
   "outputs": [
    {
     "name": "stdout",
     "output_type": "stream",
     "text": [
      "<class 'pandas.core.frame.DataFrame'>\n",
      "RangeIndex: 29056 entries, 0 to 29055\n",
      "Data columns (total 15 columns):\n",
      "MAID                29056 non-null object\n",
      "AppBundle           29056 non-null object\n",
      "AppName             29056 non-null object\n",
      "UserAgent           29056 non-null object\n",
      "Model               29056 non-null object\n",
      "Operating System    29056 non-null object\n",
      "Device's Brand      29056 non-null object\n",
      "Language            29056 non-null object\n",
      "Lat                 29056 non-null float64\n",
      "Lon                 29056 non-null float64\n",
      "Zip Code            29056 non-null int64\n",
      "City                29056 non-null object\n",
      "Country             29056 non-null object\n",
      "IP                  29056 non-null object\n",
      "NormalDate          29056 non-null datetime64[ns]\n",
      "dtypes: datetime64[ns](1), float64(2), int64(1), object(11)\n",
      "memory usage: 3.3+ MB\n"
     ]
    }
   ],
   "source": [
    "#have a look\n",
    "app__data.info()"
   ]
  },
  {
   "cell_type": "markdown",
   "metadata": {},
   "source": [
    "data consist of 11 string columns, 3 are numerical and 1 is datetime"
   ]
  },
  {
   "cell_type": "markdown",
   "metadata": {},
   "source": [
    "there is no messing values in that data"
   ]
  },
  {
   "cell_type": "code",
   "execution_count": 3,
   "metadata": {},
   "outputs": [],
   "source": [
    "#import pandas and Numpy\n",
    "import numpy as np\n",
    "import pandas as pd"
   ]
  },
  {
   "cell_type": "code",
   "execution_count": 4,
   "metadata": {},
   "outputs": [
    {
     "data": {
      "text/plain": [
       "Index(['MAID', 'AppBundle', 'AppName', 'UserAgent', 'Model',\n",
       "       'Operating System', 'Device's Brand', 'Language', 'Lat', 'Lon',\n",
       "       'Zip Code', 'City', 'Country', 'IP', 'NormalDate'],\n",
       "      dtype='object')"
      ]
     },
     "execution_count": 4,
     "metadata": {},
     "output_type": "execute_result"
    }
   ],
   "source": [
    "#have a look to columns name\n",
    "app__data.columns"
   ]
  },
  {
   "cell_type": "code",
   "execution_count": 5,
   "metadata": {},
   "outputs": [],
   "source": [
    "#clean all columns from any apostrophe because it gonna make issues \n",
    "app__data.columns = app__data.columns.str.replace(\"'\",\"\")"
   ]
  },
  {
   "cell_type": "code",
   "execution_count": 6,
   "metadata": {},
   "outputs": [
    {
     "name": "stdout",
     "output_type": "stream",
     "text": [
      "<class 'pandas.core.frame.DataFrame'>\n",
      "RangeIndex: 29056 entries, 0 to 29055\n",
      "Data columns (total 15 columns):\n",
      "MAID                29056 non-null object\n",
      "AppBundle           29056 non-null object\n",
      "AppName             29056 non-null object\n",
      "UserAgent           29056 non-null object\n",
      "Model               29056 non-null object\n",
      "Operating System    29056 non-null object\n",
      "Devices Brand       29056 non-null object\n",
      "Language            29056 non-null object\n",
      "Lat                 29056 non-null float64\n",
      "Lon                 29056 non-null float64\n",
      "Zip Code            29056 non-null int64\n",
      "City                29056 non-null object\n",
      "Country             29056 non-null object\n",
      "IP                  29056 non-null object\n",
      "NormalDate          29056 non-null datetime64[ns]\n",
      "dtypes: datetime64[ns](1), float64(2), int64(1), object(11)\n",
      "memory usage: 3.3+ MB\n"
     ]
    }
   ],
   "source": [
    "#have a look\n",
    "app__data.info()"
   ]
  },
  {
   "cell_type": "code",
   "execution_count": 7,
   "metadata": {},
   "outputs": [
    {
     "data": {
      "text/plain": [
       "Android      15610\n",
       "Apple iOS    12799\n",
       "Roku OS        630\n",
       "Unknown          6\n",
       "Tizen            6\n",
       "Linux            3\n",
       "Chrome OS        2\n",
       "Name: Operating System, dtype: int64"
      ]
     },
     "execution_count": 7,
     "metadata": {},
     "output_type": "execute_result"
    }
   ],
   "source": [
    "#check the coun og values in 'Device Brand'\n",
    "app__data['Operating System'].value_counts()"
   ]
  },
  {
   "cell_type": "markdown",
   "metadata": {},
   "source": [
    "i will go proceed with an approach, which is replace categorical values with numerics"
   ]
  },
  {
   "cell_type": "code",
   "execution_count": 8,
   "metadata": {},
   "outputs": [],
   "source": [
    "#Rename categorical values in 'Operating System' like a dictionary\n",
    "OS = {\"Operating System\":{\"Apple iOS\": 1, \"Android\": 2, 'Roku OS':3, 'Tizen':4, 'Unknown':0, 'Chrome OS':6, 'Linux': 6}}"
   ]
  },
  {
   "cell_type": "code",
   "execution_count": 9,
   "metadata": {},
   "outputs": [],
   "source": [
    "#Replace categorical variable in \"Operating System\" with numbers like in OS dictionary\n",
    "app__data.replace(OS, inplace=True)"
   ]
  },
  {
   "cell_type": "code",
   "execution_count": 10,
   "metadata": {},
   "outputs": [
    {
     "name": "stdout",
     "output_type": "stream",
     "text": [
      "<class 'pandas.core.frame.DataFrame'>\n",
      "RangeIndex: 29056 entries, 0 to 29055\n",
      "Data columns (total 15 columns):\n",
      "MAID                29056 non-null object\n",
      "AppBundle           29056 non-null object\n",
      "AppName             29056 non-null object\n",
      "UserAgent           29056 non-null object\n",
      "Model               29056 non-null object\n",
      "Operating System    29056 non-null int64\n",
      "Devices Brand       29056 non-null object\n",
      "Language            29056 non-null object\n",
      "Lat                 29056 non-null float64\n",
      "Lon                 29056 non-null float64\n",
      "Zip Code            29056 non-null int64\n",
      "City                29056 non-null object\n",
      "Country             29056 non-null object\n",
      "IP                  29056 non-null object\n",
      "NormalDate          29056 non-null datetime64[ns]\n",
      "dtypes: datetime64[ns](1), float64(2), int64(2), object(10)\n",
      "memory usage: 3.3+ MB\n"
     ]
    }
   ],
   "source": [
    "#have a look\n",
    "app__data.info()"
   ]
  },
  {
   "cell_type": "code",
   "execution_count": 11,
   "metadata": {},
   "outputs": [
    {
     "data": {
      "text/plain": [
       "iPhone                  11568\n",
       "iPad                     1163\n",
       "Unknown                  1160\n",
       "Digital Video player      630\n",
       "SM-G960U                  559\n",
       "                        ...  \n",
       "SM-S906L                    1\n",
       "Redmi 4                     1\n",
       "SGH-I337                    1\n",
       "C6730                       1\n",
       "SM-G930K                    1\n",
       "Name: Model, Length: 661, dtype: int64"
      ]
     },
     "execution_count": 11,
     "metadata": {},
     "output_type": "execute_result"
    }
   ],
   "source": [
    "#check the count values in 'Model'\n",
    "app__data['Model'].value_counts()"
   ]
  },
  {
   "cell_type": "code",
   "execution_count": 12,
   "metadata": {},
   "outputs": [
    {
     "data": {
      "text/plain": [
       "Apple           12799\n",
       "Samsung          6970\n",
       "LG               2472\n",
       "Motorola         1257\n",
       "Roku              630\n",
       "                ...  \n",
       "KDDI                1\n",
       "Double Power        1\n",
       "Nvidia              1\n",
       "Vizio               1\n",
       "bq                  1\n",
       "Name: Devices Brand, Length: 70, dtype: int64"
      ]
     },
     "execution_count": 12,
     "metadata": {},
     "output_type": "execute_result"
    }
   ],
   "source": [
    "#check the coun og values in 'Device Brand'\n",
    "app__data['Devices Brand'].value_counts()"
   ]
  },
  {
   "cell_type": "code",
   "execution_count": 13,
   "metadata": {},
   "outputs": [
    {
     "data": {
      "text/plain": [
       "Chicago              474\n",
       "Los Angeles          454\n",
       "Las Vegas            362\n",
       "Houston              339\n",
       "Atlanta              280\n",
       "                    ... \n",
       "Lawrence Township      1\n",
       "Clemson                1\n",
       "Corunna                1\n",
       "Sturgeon               1\n",
       "West Terre Haute       1\n",
       "Name: City, Length: 4763, dtype: int64"
      ]
     },
     "execution_count": 13,
     "metadata": {},
     "output_type": "execute_result"
    }
   ],
   "source": [
    "#check the coun og values in 'City'\n",
    "app__data['City'].value_counts()"
   ]
  },
  {
   "cell_type": "code",
   "execution_count": 14,
   "metadata": {},
   "outputs": [
    {
     "data": {
      "text/plain": [
       "en    28716\n",
       "es      275\n",
       "zh       18\n",
       "ja       10\n",
       "fr        6\n",
       "ko        6\n",
       "ar        5\n",
       "pt        4\n",
       "ru        4\n",
       "de        3\n",
       "hu        2\n",
       "sv        2\n",
       "tr        2\n",
       "nl        1\n",
       "pl        1\n",
       "fa        1\n",
       "Name: Language, dtype: int64"
      ]
     },
     "execution_count": 14,
     "metadata": {},
     "output_type": "execute_result"
    }
   ],
   "source": [
    "#check the coun og values in 'Language'\n",
    "app__data['Language'].value_counts()"
   ]
  },
  {
   "cell_type": "code",
   "execution_count": 15,
   "metadata": {},
   "outputs": [
    {
     "data": {
      "text/plain": [
       "com.enflick.android.TextNow    3848\n",
       "com.peoplefun.wordcross        1319\n",
       "1207472156                     1264\n",
       "591560124                      1081\n",
       "ifunny.mobi                     732\n",
       "                               ... \n",
       "1433552795                        1\n",
       "in.loop.hdmakeover                1\n",
       "749133753                         1\n",
       "com.kwalee.looper                 1\n",
       "com.cmd.cienradios                1\n",
       "Name: AppBundle, Length: 1084, dtype: int64"
      ]
     },
     "execution_count": 15,
     "metadata": {},
     "output_type": "execute_result"
    }
   ],
   "source": [
    "#check the coun og values in 'AppBundle '\n",
    "app__data['AppBundle'].value_counts()"
   ]
  },
  {
   "cell_type": "code",
   "execution_count": 16,
   "metadata": {},
   "outputs": [
    {
     "data": {
      "text/plain": [
       "TextNow: Free Texting & Calling App                  3848\n",
       "Wordscapes                                           2583\n",
       "iFunny :)                                            1397\n",
       "Musi - Simple Music Streaming                        1081\n",
       "Word Stacks                                           714\n",
       "                                                     ... \n",
       "Bridge Card Game Classic                                1\n",
       "Hearts                                                  1\n",
       "NBC4 Wx                                                 1\n",
       "ABC News                                                1\n",
       "AutoCreated_958_1o7E4B2e3R8R6V7d9e8D4b3j3x2k7j8_0       1\n",
       "Name: AppName, Length: 1004, dtype: int64"
      ]
     },
     "execution_count": 16,
     "metadata": {},
     "output_type": "execute_result"
    }
   ],
   "source": [
    "#check the coun og values in 'AppName'\n",
    "app__data['AppName'].value_counts()"
   ]
  },
  {
   "cell_type": "code",
   "execution_count": 17,
   "metadata": {},
   "outputs": [
    {
     "data": {
      "text/plain": [
       "172.58.29.0      86\n",
       "172.58.21.0      73\n",
       "172.58.45.0      66\n",
       "107.77.249.0     63\n",
       "172.58.27.0      61\n",
       "                 ..\n",
       "24.73.151.0       1\n",
       "174.205.20.0      1\n",
       "66.58.241.0       1\n",
       "162.253.236.0     1\n",
       "50.254.52.0       1\n",
       "Name: IP, Length: 19744, dtype: int64"
      ]
     },
     "execution_count": 17,
     "metadata": {},
     "output_type": "execute_result"
    }
   ],
   "source": [
    "#check the coun og values in 'AppName'\n",
    "app__data['IP'].value_counts()"
   ]
  },
  {
   "cell_type": "code",
   "execution_count": 18,
   "metadata": {},
   "outputs": [
    {
     "data": {
      "text/plain": [
       "Mozilla/5.0 (iPhone; CPU iPhone OS 13_1_3 like Mac OS X) AppleWebKit/605.1.15 (KHTML, like Gecko) Mobile/15E148                                                        4321\n",
       "Mozilla/5.0 (iPhone; CPU iPhone OS 13_1_2 like Mac OS X) AppleWebKit/605.1.15 (KHTML, like Gecko) Mobile/15E148                                                        2552\n",
       "Mozilla/5.0 (iPhone; CPU iPhone OS 12_4_1 like Mac OS X) AppleWebKit/605.1.15 (KHTML, like Gecko) Mobile/15E148                                                        1233\n",
       "Mozilla/5.0 (iPhone; CPU iPhone OS 12_3_1 like Mac OS X) AppleWebKit/605.1.15 (KHTML, like Gecko) Mobile/15E148                                                         392\n",
       "Mozilla/5.0 (iPhone; CPU iPhone OS 12_4_2 like Mac OS X) AppleWebKit/605.1.15 (KHTML, like Gecko) Mobile/15E148                                                         350\n",
       "                                                                                                                                                                       ... \n",
       "Mozilla/5.0 (Linux; Android 5.1.1; Coolpad 3622A Build/LMY47V; wv) AppleWebKit/537.36 (KHTML, like Gecko) Version/4.0 Chrome/77.0.3865.116 Mobile Safari/537.36           1\n",
       "Mozilla/5.0 (Linux; Android 9; cp3705A Build/3705A.MPCS.190628.2D; wv) AppleWebKit/537.36 (KHTML, like Gecko) Version/4.0 Chrome/75.0.3770.101 Mobile Safari/537.36       1\n",
       "Mozilla/5.0 (Linux; Android 9; LM-Q710.FG Build/OPM1.171019.019; wv) AppleWebKit/537.36 (KHTML, like Gecko) Version/4.0 Chrome/71.0.3578.83 Mobile Safari/537.36          1\n",
       "Dalvik/2.1.0 (Linux; U; Android 6.0.1; SM-G570F Build/MMB29K)                                                                                                             1\n",
       "Mozilla/5.0 (Linux; Android 7.1.1; SM-T560NU Build/NMF26X; wv) AppleWebKit/537.36 (KHTML, like Gecko) Version/4.0 Chrome/78.0.3904.62 Safari/537.36                       1\n",
       "Name: UserAgent, Length: 5032, dtype: int64"
      ]
     },
     "execution_count": 18,
     "metadata": {},
     "output_type": "execute_result"
    }
   ],
   "source": [
    "#check the coun og values in 'AppName'\n",
    "app__data['UserAgent'].value_counts()"
   ]
  },
  {
   "cell_type": "markdown",
   "metadata": {},
   "source": [
    "###### at column 'Model', 'Device Brand', 'City', 'Language', 'AppBundle', 'AppName', 'IP', 'UserAgent' i wil go proceed with an approach 'label encoding'"
   ]
  },
  {
   "cell_type": "code",
   "execution_count": 19,
   "metadata": {},
   "outputs": [],
   "source": [
    "# Convert the data type 'Devices Brand' to category instead object\n",
    "app__data['Model'] = app__data['Model'].astype('category')\n",
    "\n",
    "# apply label encoding\n",
    "app__data['Model'] = app__data['Model'].cat.codes"
   ]
  },
  {
   "cell_type": "code",
   "execution_count": 20,
   "metadata": {},
   "outputs": [],
   "source": [
    "# Convert the data type 'Devices Brand' to category instead object\n",
    "app__data['Devices Brand'] = app__data['Devices Brand'].astype('category')\n",
    "\n",
    "# apply label encoding\n",
    "app__data['Devices Brand'] = app__data['Devices Brand'].cat.codes"
   ]
  },
  {
   "cell_type": "code",
   "execution_count": 21,
   "metadata": {},
   "outputs": [],
   "source": [
    "# Convert the data type 'Devices Brand' to category instead object\n",
    "app__data['Language'] = app__data['Language'].astype('category')\n",
    "\n",
    "# apply label encoding\n",
    "app__data['Language'] = app__data['Language'].cat.codes"
   ]
  },
  {
   "cell_type": "code",
   "execution_count": 22,
   "metadata": {},
   "outputs": [],
   "source": [
    "# Convert the data type 'Devices Brand' to category instead object\n",
    "app__data['City'] = app__data['City'].astype('category')\n",
    "\n",
    "# apply label encoding\n",
    "app__data['City'] = app__data['City'].cat.codes"
   ]
  },
  {
   "cell_type": "code",
   "execution_count": 23,
   "metadata": {},
   "outputs": [],
   "source": [
    "# Convert the data type 'Devices Brand' to category instead object\n",
    "app__data['AppBundle'] = app__data['AppBundle'].astype('category')\n",
    "\n",
    "# apply label encoding\n",
    "app__data['AppBundle'] = app__data['AppBundle'].cat.codes"
   ]
  },
  {
   "cell_type": "code",
   "execution_count": 24,
   "metadata": {},
   "outputs": [],
   "source": [
    "# Convert the data type 'Devices Brand' to category instead object\n",
    "app__data['AppName'] = app__data['AppName'].astype('category')\n",
    "\n",
    "# apply label encoding\n",
    "app__data['AppName'] = app__data['AppName'].cat.codes"
   ]
  },
  {
   "cell_type": "code",
   "execution_count": 25,
   "metadata": {},
   "outputs": [],
   "source": [
    "# Convert the data type 'Devices Brand' to category instead object\n",
    "app__data['IP'] = app__data['IP'].astype('category')\n",
    "\n",
    "# apply label encoding\n",
    "app__data['IP'] = app__data['IP'].cat.codes"
   ]
  },
  {
   "cell_type": "code",
   "execution_count": 26,
   "metadata": {},
   "outputs": [],
   "source": [
    "# Convert the data type 'Devices Brand' to category instead object\n",
    "app__data['UserAgent'] = app__data['UserAgent'].astype('category')\n",
    "\n",
    "# apply label encoding\n",
    "app__data['UserAgent'] = app__data['UserAgent'].cat.codes"
   ]
  },
  {
   "cell_type": "code",
   "execution_count": 27,
   "metadata": {},
   "outputs": [
    {
     "name": "stdout",
     "output_type": "stream",
     "text": [
      "<class 'pandas.core.frame.DataFrame'>\n",
      "RangeIndex: 29056 entries, 0 to 29055\n",
      "Data columns (total 15 columns):\n",
      "MAID                29056 non-null object\n",
      "AppBundle           29056 non-null int16\n",
      "AppName             29056 non-null int16\n",
      "UserAgent           29056 non-null int16\n",
      "Model               29056 non-null int16\n",
      "Operating System    29056 non-null int64\n",
      "Devices Brand       29056 non-null int8\n",
      "Language            29056 non-null int8\n",
      "Lat                 29056 non-null float64\n",
      "Lon                 29056 non-null float64\n",
      "Zip Code            29056 non-null int64\n",
      "City                29056 non-null int16\n",
      "Country             29056 non-null object\n",
      "IP                  29056 non-null int16\n",
      "NormalDate          29056 non-null datetime64[ns]\n",
      "dtypes: datetime64[ns](1), float64(2), int16(6), int64(2), int8(2), object(2)\n",
      "memory usage: 1.9+ MB\n"
     ]
    }
   ],
   "source": [
    "app__data.info()"
   ]
  },
  {
   "cell_type": "code",
   "execution_count": 28,
   "metadata": {},
   "outputs": [
    {
     "data": {
      "text/html": [
       "<div>\n",
       "<style scoped>\n",
       "    .dataframe tbody tr th:only-of-type {\n",
       "        vertical-align: middle;\n",
       "    }\n",
       "\n",
       "    .dataframe tbody tr th {\n",
       "        vertical-align: top;\n",
       "    }\n",
       "\n",
       "    .dataframe thead th {\n",
       "        text-align: right;\n",
       "    }\n",
       "</style>\n",
       "<table border=\"1\" class=\"dataframe\">\n",
       "  <thead>\n",
       "    <tr style=\"text-align: right;\">\n",
       "      <th></th>\n",
       "      <th>AppBundle</th>\n",
       "      <th>AppName</th>\n",
       "      <th>UserAgent</th>\n",
       "      <th>Model</th>\n",
       "      <th>Operating System</th>\n",
       "      <th>Devices Brand</th>\n",
       "      <th>Language</th>\n",
       "      <th>Lat</th>\n",
       "      <th>Lon</th>\n",
       "      <th>Zip Code</th>\n",
       "      <th>City</th>\n",
       "      <th>IP</th>\n",
       "    </tr>\n",
       "  </thead>\n",
       "  <tbody>\n",
       "    <tr>\n",
       "      <td>AppBundle</td>\n",
       "      <td>1.000000</td>\n",
       "      <td>0.124101</td>\n",
       "      <td>-0.583404</td>\n",
       "      <td>-0.666210</td>\n",
       "      <td>0.823850</td>\n",
       "      <td>0.727031</td>\n",
       "      <td>-0.018839</td>\n",
       "      <td>-0.082812</td>\n",
       "      <td>0.118555</td>\n",
       "      <td>-0.072155</td>\n",
       "      <td>-0.016395</td>\n",
       "      <td>-0.018820</td>\n",
       "    </tr>\n",
       "    <tr>\n",
       "      <td>AppName</td>\n",
       "      <td>0.124101</td>\n",
       "      <td>1.000000</td>\n",
       "      <td>-0.085704</td>\n",
       "      <td>-0.095086</td>\n",
       "      <td>0.124433</td>\n",
       "      <td>0.101222</td>\n",
       "      <td>-0.021770</td>\n",
       "      <td>-0.104140</td>\n",
       "      <td>0.102176</td>\n",
       "      <td>0.009784</td>\n",
       "      <td>0.007724</td>\n",
       "      <td>-0.003204</td>\n",
       "    </tr>\n",
       "    <tr>\n",
       "      <td>UserAgent</td>\n",
       "      <td>-0.583404</td>\n",
       "      <td>-0.085704</td>\n",
       "      <td>1.000000</td>\n",
       "      <td>0.567983</td>\n",
       "      <td>-0.629931</td>\n",
       "      <td>-0.550986</td>\n",
       "      <td>0.007985</td>\n",
       "      <td>0.165709</td>\n",
       "      <td>-0.198888</td>\n",
       "      <td>0.084911</td>\n",
       "      <td>0.013127</td>\n",
       "      <td>0.007747</td>\n",
       "    </tr>\n",
       "    <tr>\n",
       "      <td>Model</td>\n",
       "      <td>-0.666210</td>\n",
       "      <td>-0.095086</td>\n",
       "      <td>0.567983</td>\n",
       "      <td>1.000000</td>\n",
       "      <td>-0.791624</td>\n",
       "      <td>-0.522562</td>\n",
       "      <td>0.015863</td>\n",
       "      <td>0.161337</td>\n",
       "      <td>-0.195592</td>\n",
       "      <td>0.097678</td>\n",
       "      <td>0.020377</td>\n",
       "      <td>0.005753</td>\n",
       "    </tr>\n",
       "    <tr>\n",
       "      <td>Operating System</td>\n",
       "      <td>0.823850</td>\n",
       "      <td>0.124433</td>\n",
       "      <td>-0.629931</td>\n",
       "      <td>-0.791624</td>\n",
       "      <td>1.000000</td>\n",
       "      <td>0.832313</td>\n",
       "      <td>-0.018398</td>\n",
       "      <td>-0.176727</td>\n",
       "      <td>0.217085</td>\n",
       "      <td>-0.109987</td>\n",
       "      <td>-0.018387</td>\n",
       "      <td>-0.008164</td>\n",
       "    </tr>\n",
       "    <tr>\n",
       "      <td>Devices Brand</td>\n",
       "      <td>0.727031</td>\n",
       "      <td>0.101222</td>\n",
       "      <td>-0.550986</td>\n",
       "      <td>-0.522562</td>\n",
       "      <td>0.832313</td>\n",
       "      <td>1.000000</td>\n",
       "      <td>-0.015417</td>\n",
       "      <td>-0.101859</td>\n",
       "      <td>0.139441</td>\n",
       "      <td>-0.085297</td>\n",
       "      <td>-0.014213</td>\n",
       "      <td>-0.018361</td>\n",
       "    </tr>\n",
       "    <tr>\n",
       "      <td>Language</td>\n",
       "      <td>-0.018839</td>\n",
       "      <td>-0.021770</td>\n",
       "      <td>0.007985</td>\n",
       "      <td>0.015863</td>\n",
       "      <td>-0.018398</td>\n",
       "      <td>-0.015417</td>\n",
       "      <td>1.000000</td>\n",
       "      <td>0.013849</td>\n",
       "      <td>-0.020162</td>\n",
       "      <td>0.006878</td>\n",
       "      <td>0.009511</td>\n",
       "      <td>-0.002856</td>\n",
       "    </tr>\n",
       "    <tr>\n",
       "      <td>Lat</td>\n",
       "      <td>-0.082812</td>\n",
       "      <td>-0.104140</td>\n",
       "      <td>0.165709</td>\n",
       "      <td>0.161337</td>\n",
       "      <td>-0.176727</td>\n",
       "      <td>-0.101859</td>\n",
       "      <td>0.013849</td>\n",
       "      <td>1.000000</td>\n",
       "      <td>-0.898656</td>\n",
       "      <td>-0.010732</td>\n",
       "      <td>0.010015</td>\n",
       "      <td>-0.010344</td>\n",
       "    </tr>\n",
       "    <tr>\n",
       "      <td>Lon</td>\n",
       "      <td>0.118555</td>\n",
       "      <td>0.102176</td>\n",
       "      <td>-0.198888</td>\n",
       "      <td>-0.195592</td>\n",
       "      <td>0.217085</td>\n",
       "      <td>0.139441</td>\n",
       "      <td>-0.020162</td>\n",
       "      <td>-0.898656</td>\n",
       "      <td>1.000000</td>\n",
       "      <td>-0.258069</td>\n",
       "      <td>-0.032261</td>\n",
       "      <td>-0.000259</td>\n",
       "    </tr>\n",
       "    <tr>\n",
       "      <td>Zip Code</td>\n",
       "      <td>-0.072155</td>\n",
       "      <td>0.009784</td>\n",
       "      <td>0.084911</td>\n",
       "      <td>0.097678</td>\n",
       "      <td>-0.109987</td>\n",
       "      <td>-0.085297</td>\n",
       "      <td>0.006878</td>\n",
       "      <td>-0.010732</td>\n",
       "      <td>-0.258069</td>\n",
       "      <td>1.000000</td>\n",
       "      <td>0.072745</td>\n",
       "      <td>0.041854</td>\n",
       "    </tr>\n",
       "    <tr>\n",
       "      <td>City</td>\n",
       "      <td>-0.016395</td>\n",
       "      <td>0.007724</td>\n",
       "      <td>0.013127</td>\n",
       "      <td>0.020377</td>\n",
       "      <td>-0.018387</td>\n",
       "      <td>-0.014213</td>\n",
       "      <td>0.009511</td>\n",
       "      <td>0.010015</td>\n",
       "      <td>-0.032261</td>\n",
       "      <td>0.072745</td>\n",
       "      <td>1.000000</td>\n",
       "      <td>0.011300</td>\n",
       "    </tr>\n",
       "    <tr>\n",
       "      <td>IP</td>\n",
       "      <td>-0.018820</td>\n",
       "      <td>-0.003204</td>\n",
       "      <td>0.007747</td>\n",
       "      <td>0.005753</td>\n",
       "      <td>-0.008164</td>\n",
       "      <td>-0.018361</td>\n",
       "      <td>-0.002856</td>\n",
       "      <td>-0.010344</td>\n",
       "      <td>-0.000259</td>\n",
       "      <td>0.041854</td>\n",
       "      <td>0.011300</td>\n",
       "      <td>1.000000</td>\n",
       "    </tr>\n",
       "  </tbody>\n",
       "</table>\n",
       "</div>"
      ],
      "text/plain": [
       "                  AppBundle   AppName  UserAgent     Model  Operating System  \\\n",
       "AppBundle          1.000000  0.124101  -0.583404 -0.666210          0.823850   \n",
       "AppName            0.124101  1.000000  -0.085704 -0.095086          0.124433   \n",
       "UserAgent         -0.583404 -0.085704   1.000000  0.567983         -0.629931   \n",
       "Model             -0.666210 -0.095086   0.567983  1.000000         -0.791624   \n",
       "Operating System   0.823850  0.124433  -0.629931 -0.791624          1.000000   \n",
       "Devices Brand      0.727031  0.101222  -0.550986 -0.522562          0.832313   \n",
       "Language          -0.018839 -0.021770   0.007985  0.015863         -0.018398   \n",
       "Lat               -0.082812 -0.104140   0.165709  0.161337         -0.176727   \n",
       "Lon                0.118555  0.102176  -0.198888 -0.195592          0.217085   \n",
       "Zip Code          -0.072155  0.009784   0.084911  0.097678         -0.109987   \n",
       "City              -0.016395  0.007724   0.013127  0.020377         -0.018387   \n",
       "IP                -0.018820 -0.003204   0.007747  0.005753         -0.008164   \n",
       "\n",
       "                  Devices Brand  Language       Lat       Lon  Zip Code  \\\n",
       "AppBundle              0.727031 -0.018839 -0.082812  0.118555 -0.072155   \n",
       "AppName                0.101222 -0.021770 -0.104140  0.102176  0.009784   \n",
       "UserAgent             -0.550986  0.007985  0.165709 -0.198888  0.084911   \n",
       "Model                 -0.522562  0.015863  0.161337 -0.195592  0.097678   \n",
       "Operating System       0.832313 -0.018398 -0.176727  0.217085 -0.109987   \n",
       "Devices Brand          1.000000 -0.015417 -0.101859  0.139441 -0.085297   \n",
       "Language              -0.015417  1.000000  0.013849 -0.020162  0.006878   \n",
       "Lat                   -0.101859  0.013849  1.000000 -0.898656 -0.010732   \n",
       "Lon                    0.139441 -0.020162 -0.898656  1.000000 -0.258069   \n",
       "Zip Code              -0.085297  0.006878 -0.010732 -0.258069  1.000000   \n",
       "City                  -0.014213  0.009511  0.010015 -0.032261  0.072745   \n",
       "IP                    -0.018361 -0.002856 -0.010344 -0.000259  0.041854   \n",
       "\n",
       "                      City        IP  \n",
       "AppBundle        -0.016395 -0.018820  \n",
       "AppName           0.007724 -0.003204  \n",
       "UserAgent         0.013127  0.007747  \n",
       "Model             0.020377  0.005753  \n",
       "Operating System -0.018387 -0.008164  \n",
       "Devices Brand    -0.014213 -0.018361  \n",
       "Language          0.009511 -0.002856  \n",
       "Lat               0.010015 -0.010344  \n",
       "Lon              -0.032261 -0.000259  \n",
       "Zip Code          0.072745  0.041854  \n",
       "City              1.000000  0.011300  \n",
       "IP                0.011300  1.000000  "
      ]
     },
     "execution_count": 28,
     "metadata": {},
     "output_type": "execute_result"
    }
   ],
   "source": [
    "app__data.corr()"
   ]
  },
  {
   "cell_type": "code",
   "execution_count": null,
   "metadata": {},
   "outputs": [],
   "source": [
    "here "
   ]
  }
 ],
 "metadata": {
  "kernelspec": {
   "display_name": "Python 3",
   "language": "python",
   "name": "python3"
  },
  "language_info": {
   "codemirror_mode": {
    "name": "ipython",
    "version": 3
   },
   "file_extension": ".py",
   "mimetype": "text/x-python",
   "name": "python",
   "nbconvert_exporter": "python",
   "pygments_lexer": "ipython3",
   "version": "3.7.4"
  }
 },
 "nbformat": 4,
 "nbformat_minor": 2
}
