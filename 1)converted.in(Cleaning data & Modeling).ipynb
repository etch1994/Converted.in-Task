{
 "cells": [
  {
   "cell_type": "markdown",
   "metadata": {},
   "source": [
    "# Coded and Built by / Ahmed Hisham Elsayed"
   ]
  },
  {
   "cell_type": "markdown",
   "metadata": {},
   "source": [
    "### Converted.in Task"
   ]
  },
  {
   "cell_type": "markdown",
   "metadata": {},
   "source": [
    "## 0)Introduction\n",
    "'xxxx' is information technology company built few Apps has Data related to Apps they built with existing users Info, the management and Marketing teams want to get all possible benefits from this data like.. what is the most OS they need to be focus most ?, how to increase the profit by targeting users?, what is the relations between variables, and so on."
   ]
  },
  {
   "cell_type": "markdown",
   "metadata": {},
   "source": [
    "## 1)importing Data"
   ]
  },
  {
   "cell_type": "code",
   "execution_count": 1,
   "metadata": {},
   "outputs": [],
   "source": [
    "#import pandas \n",
    "import pandas as pd\n",
    "#data file path\n",
    "data_path = \"E:/convirted in/data/convertedin USA Mobile App Data Small Sample.xlsx\"\n",
    "#import the CSV file\n",
    "usapp_data = pd.read_excel(data_path) "
   ]
  },
  {
   "cell_type": "markdown",
   "metadata": {},
   "source": [
    "## 2)Data understanding"
   ]
  },
  {
   "cell_type": "code",
   "execution_count": 2,
   "metadata": {},
   "outputs": [
    {
     "data": {
      "text/plain": [
       "Index(['MAID', 'AppBundle', 'AppName', 'Timestamp', 'UserAgent', 'Model',\n",
       "       'Operating System', 'Device's Brand', 'Language', 'Lat', 'Lon',\n",
       "       'Zip Code', 'City', 'Country', 'IP', 'Carrier'],\n",
       "      dtype='object')"
      ]
     },
     "execution_count": 2,
     "metadata": {},
     "output_type": "execute_result"
    }
   ],
   "source": [
    "#check the columns names\n",
    "usapp_data.columns"
   ]
  },
  {
   "cell_type": "code",
   "execution_count": 3,
   "metadata": {},
   "outputs": [
    {
     "data": {
      "text/plain": [
       "(30000, 16)"
      ]
     },
     "execution_count": 3,
     "metadata": {},
     "output_type": "execute_result"
    }
   ],
   "source": [
    "# check the size of the table\n",
    "usapp_data.shape"
   ]
  },
  {
   "cell_type": "markdown",
   "metadata": {},
   "source": [
    "data consist of 30000 rows and 16 columns"
   ]
  },
  {
   "cell_type": "markdown",
   "metadata": {},
   "source": [
    "## 3)Assessing Data"
   ]
  },
  {
   "cell_type": "code",
   "execution_count": 4,
   "metadata": {},
   "outputs": [
    {
     "data": {
      "text/html": [
       "<div>\n",
       "<style scoped>\n",
       "    .dataframe tbody tr th:only-of-type {\n",
       "        vertical-align: middle;\n",
       "    }\n",
       "\n",
       "    .dataframe tbody tr th {\n",
       "        vertical-align: top;\n",
       "    }\n",
       "\n",
       "    .dataframe thead th {\n",
       "        text-align: right;\n",
       "    }\n",
       "</style>\n",
       "<table border=\"1\" class=\"dataframe\">\n",
       "  <thead>\n",
       "    <tr style=\"text-align: right;\">\n",
       "      <th></th>\n",
       "      <th>MAID</th>\n",
       "      <th>AppBundle</th>\n",
       "      <th>AppName</th>\n",
       "      <th>Timestamp</th>\n",
       "      <th>UserAgent</th>\n",
       "      <th>Model</th>\n",
       "      <th>Operating System</th>\n",
       "      <th>Device's Brand</th>\n",
       "      <th>Language</th>\n",
       "      <th>Lat</th>\n",
       "      <th>Lon</th>\n",
       "      <th>Zip Code</th>\n",
       "      <th>City</th>\n",
       "      <th>Country</th>\n",
       "      <th>IP</th>\n",
       "      <th>Carrier</th>\n",
       "    </tr>\n",
       "  </thead>\n",
       "  <tbody>\n",
       "    <tr>\n",
       "      <td>0</td>\n",
       "      <td>730e5cac-ea13-41fb-886c-e5d8459a2304</td>\n",
       "      <td>com.freerange360.mpp.businessinsider</td>\n",
       "      <td>Business Insider</td>\n",
       "      <td>1571814647200</td>\n",
       "      <td>Mozilla/5.0 (Linux; Android 9; moto e5 play Bu...</td>\n",
       "      <td>Moto E5 Play</td>\n",
       "      <td>Android</td>\n",
       "      <td>Motorola</td>\n",
       "      <td>NaN</td>\n",
       "      <td>34.227800</td>\n",
       "      <td>-118.442000</td>\n",
       "      <td>91331</td>\n",
       "      <td>Pacoima</td>\n",
       "      <td>USA</td>\n",
       "      <td>172.114.113.0</td>\n",
       "      <td>ISP:Time Warner</td>\n",
       "    </tr>\n",
       "    <tr>\n",
       "      <td>1</td>\n",
       "      <td>6442688f-eb1a-4fd9-b94c-aa8479085533</td>\n",
       "      <td>com.nytimes.android</td>\n",
       "      <td>NYTimes - Latest News</td>\n",
       "      <td>1571814647212</td>\n",
       "      <td>Dalvik/2.1.0 (Linux; U; Android 10; Pixel 3 Bu...</td>\n",
       "      <td>G013A</td>\n",
       "      <td>Android</td>\n",
       "      <td>Google</td>\n",
       "      <td>en</td>\n",
       "      <td>0.000000</td>\n",
       "      <td>0.000000</td>\n",
       "      <td>92376</td>\n",
       "      <td>Rialto</td>\n",
       "      <td>USA</td>\n",
       "      <td>172.58.27.0</td>\n",
       "      <td>T-Mobile</td>\n",
       "    </tr>\n",
       "    <tr>\n",
       "      <td>2</td>\n",
       "      <td>72AC9540-AE91-436C-94E8-A0151B05686F</td>\n",
       "      <td>281940292</td>\n",
       "      <td>WeatherBug ? Weather Forecast</td>\n",
       "      <td>1571814647216</td>\n",
       "      <td>Mozilla/5.0 (iPhone; CPU iPhone OS 12_4_2 like...</td>\n",
       "      <td>iPhone</td>\n",
       "      <td>Apple iOS</td>\n",
       "      <td>Apple</td>\n",
       "      <td>en</td>\n",
       "      <td>32.561523</td>\n",
       "      <td>-90.193115</td>\n",
       "      <td>30310</td>\n",
       "      <td>Atlanta</td>\n",
       "      <td>USA</td>\n",
       "      <td>107.77.234.0</td>\n",
       "      <td>AT&amp;T</td>\n",
       "    </tr>\n",
       "    <tr>\n",
       "      <td>3</td>\n",
       "      <td>f34c6075-fa72-44b3-942c-7ff64fbe4df1</td>\n",
       "      <td>com.enflick.android.TextNow</td>\n",
       "      <td>TextNow: Free Texting &amp; Calling App</td>\n",
       "      <td>1571814647219</td>\n",
       "      <td>Mozilla/5.0 (Linux; Android 6.0.1; SM-G900P Bu...</td>\n",
       "      <td>SM-G900P</td>\n",
       "      <td>Android</td>\n",
       "      <td>Sprint</td>\n",
       "      <td>en</td>\n",
       "      <td>0.000000</td>\n",
       "      <td>0.000000</td>\n",
       "      <td>80207</td>\n",
       "      <td>Denver</td>\n",
       "      <td>USA</td>\n",
       "      <td>76.120.23.0</td>\n",
       "      <td>NaN</td>\n",
       "    </tr>\n",
       "    <tr>\n",
       "      <td>4</td>\n",
       "      <td>6f666e2a-4384-4430-953d-b17461fcd479</td>\n",
       "      <td>com.enflick.android.TextNow</td>\n",
       "      <td>TextNow: Free Texting &amp; Calling App</td>\n",
       "      <td>1571814648956</td>\n",
       "      <td>Mozilla/5.0 (Linux; Android 7.0; LGMP260 Build...</td>\n",
       "      <td>MP260</td>\n",
       "      <td>Android</td>\n",
       "      <td>LG</td>\n",
       "      <td>en</td>\n",
       "      <td>0.000000</td>\n",
       "      <td>0.000000</td>\n",
       "      <td>47905</td>\n",
       "      <td>Lafayette</td>\n",
       "      <td>USA</td>\n",
       "      <td>73.103.23.0</td>\n",
       "      <td>NaN</td>\n",
       "    </tr>\n",
       "  </tbody>\n",
       "</table>\n",
       "</div>"
      ],
      "text/plain": [
       "                                   MAID                             AppBundle  \\\n",
       "0  730e5cac-ea13-41fb-886c-e5d8459a2304  com.freerange360.mpp.businessinsider   \n",
       "1  6442688f-eb1a-4fd9-b94c-aa8479085533                   com.nytimes.android   \n",
       "2  72AC9540-AE91-436C-94E8-A0151B05686F                             281940292   \n",
       "3  f34c6075-fa72-44b3-942c-7ff64fbe4df1           com.enflick.android.TextNow   \n",
       "4  6f666e2a-4384-4430-953d-b17461fcd479           com.enflick.android.TextNow   \n",
       "\n",
       "                               AppName      Timestamp  \\\n",
       "0                     Business Insider  1571814647200   \n",
       "1                NYTimes - Latest News  1571814647212   \n",
       "2        WeatherBug ? Weather Forecast  1571814647216   \n",
       "3  TextNow: Free Texting & Calling App  1571814647219   \n",
       "4  TextNow: Free Texting & Calling App  1571814648956   \n",
       "\n",
       "                                           UserAgent         Model  \\\n",
       "0  Mozilla/5.0 (Linux; Android 9; moto e5 play Bu...  Moto E5 Play   \n",
       "1  Dalvik/2.1.0 (Linux; U; Android 10; Pixel 3 Bu...         G013A   \n",
       "2  Mozilla/5.0 (iPhone; CPU iPhone OS 12_4_2 like...        iPhone   \n",
       "3  Mozilla/5.0 (Linux; Android 6.0.1; SM-G900P Bu...      SM-G900P   \n",
       "4  Mozilla/5.0 (Linux; Android 7.0; LGMP260 Build...         MP260   \n",
       "\n",
       "  Operating System Device's Brand Language        Lat         Lon  Zip Code  \\\n",
       "0          Android       Motorola      NaN  34.227800 -118.442000     91331   \n",
       "1          Android         Google       en   0.000000    0.000000     92376   \n",
       "2        Apple iOS          Apple       en  32.561523  -90.193115     30310   \n",
       "3          Android         Sprint       en   0.000000    0.000000     80207   \n",
       "4          Android             LG       en   0.000000    0.000000     47905   \n",
       "\n",
       "        City Country             IP          Carrier  \n",
       "0    Pacoima     USA  172.114.113.0  ISP:Time Warner  \n",
       "1     Rialto     USA    172.58.27.0         T-Mobile  \n",
       "2    Atlanta     USA   107.77.234.0             AT&T  \n",
       "3     Denver     USA    76.120.23.0              NaN  \n",
       "4  Lafayette     USA    73.103.23.0              NaN  "
      ]
     },
     "execution_count": 4,
     "metadata": {},
     "output_type": "execute_result"
    }
   ],
   "source": [
    "usapp_data.head()"
   ]
  },
  {
   "cell_type": "code",
   "execution_count": 5,
   "metadata": {},
   "outputs": [
    {
     "name": "stdout",
     "output_type": "stream",
     "text": [
      "<class 'pandas.core.frame.DataFrame'>\n",
      "RangeIndex: 30000 entries, 0 to 29999\n",
      "Data columns (total 16 columns):\n",
      "MAID                30000 non-null object\n",
      "AppBundle           29514 non-null object\n",
      "AppName             29415 non-null object\n",
      "Timestamp           30000 non-null int64\n",
      "UserAgent           30000 non-null object\n",
      "Model               30000 non-null object\n",
      "Operating System    30000 non-null object\n",
      "Device's Brand      30000 non-null object\n",
      "Language            21063 non-null object\n",
      "Lat                 30000 non-null float64\n",
      "Lon                 30000 non-null float64\n",
      "Zip Code            30000 non-null int64\n",
      "City                30000 non-null object\n",
      "Country             30000 non-null object\n",
      "IP                  29641 non-null object\n",
      "Carrier             10460 non-null object\n",
      "dtypes: float64(2), int64(2), object(12)\n",
      "memory usage: 3.7+ MB\n"
     ]
    }
   ],
   "source": [
    "usapp_data.info()"
   ]
  },
  {
   "cell_type": "markdown",
   "metadata": {},
   "source": [
    "###### there are 12 Categorical column, 2 integer and 2 float\n",
    "###### and there are missing values in 'AppName', 'AppBundle', 'Language', 'IP' and 'Carrier'"
   ]
  },
  {
   "cell_type": "markdown",
   "metadata": {},
   "source": [
    "## 4)Cleaning Data"
   ]
  },
  {
   "cell_type": "code",
   "execution_count": 6,
   "metadata": {},
   "outputs": [],
   "source": [
    "#drop duplicate if they are\n",
    "app_data = usapp_data.drop_duplicates()"
   ]
  },
  {
   "cell_type": "code",
   "execution_count": 7,
   "metadata": {},
   "outputs": [
    {
     "name": "stdout",
     "output_type": "stream",
     "text": [
      "<class 'pandas.core.frame.DataFrame'>\n",
      "Int64Index: 30000 entries, 0 to 29999\n",
      "Data columns (total 16 columns):\n",
      "MAID                30000 non-null object\n",
      "AppBundle           29514 non-null object\n",
      "AppName             29415 non-null object\n",
      "Timestamp           30000 non-null int64\n",
      "UserAgent           30000 non-null object\n",
      "Model               30000 non-null object\n",
      "Operating System    30000 non-null object\n",
      "Device's Brand      30000 non-null object\n",
      "Language            21063 non-null object\n",
      "Lat                 30000 non-null float64\n",
      "Lon                 30000 non-null float64\n",
      "Zip Code            30000 non-null int64\n",
      "City                30000 non-null object\n",
      "Country             30000 non-null object\n",
      "IP                  29641 non-null object\n",
      "Carrier             10460 non-null object\n",
      "dtypes: float64(2), int64(2), object(12)\n",
      "memory usage: 3.9+ MB\n"
     ]
    }
   ],
   "source": [
    "#Checking..\n",
    "app_data.info()"
   ]
  },
  {
   "cell_type": "markdown",
   "metadata": {},
   "source": [
    "no duplicates their"
   ]
  },
  {
   "cell_type": "markdown",
   "metadata": {},
   "source": [
    "we shouldn't drop all rows that contain missing data now, because we gonna lose more than 50% of our data and this is not acceptable"
   ]
  },
  {
   "cell_type": "code",
   "execution_count": 8,
   "metadata": {},
   "outputs": [
    {
     "data": {
      "text/plain": [
       "en     20720\n",
       "NaN     8937\n",
       "es       277\n",
       "zh        19\n",
       "ja        10\n",
       "fr         6\n",
       "ko         6\n",
       "ar         5\n",
       "ru         4\n",
       "pt         4\n",
       "de         3\n",
       "tr         2\n",
       "hu         2\n",
       "sv         2\n",
       "pl         1\n",
       "fa         1\n",
       "nl         1\n",
       "Name: Language, dtype: int64"
      ]
     },
     "execution_count": 8,
     "metadata": {},
     "output_type": "execute_result"
    }
   ],
   "source": [
    "#check which is the common language\n",
    "app_data['Language'].value_counts(dropna=False)"
   ]
  },
  {
   "cell_type": "markdown",
   "metadata": {},
   "source": [
    "so, English is the most common language "
   ]
  },
  {
   "cell_type": "code",
   "execution_count": 9,
   "metadata": {},
   "outputs": [
    {
     "data": {
      "text/plain": [
       "en    29657\n",
       "es      277\n",
       "zh       19\n",
       "ja       10\n",
       "fr        6\n",
       "ko        6\n",
       "ar        5\n",
       "ru        4\n",
       "pt        4\n",
       "de        3\n",
       "sv        2\n",
       "tr        2\n",
       "hu        2\n",
       "pl        1\n",
       "fa        1\n",
       "nl        1\n",
       "Name: Language, dtype: int64"
      ]
     },
     "execution_count": 9,
     "metadata": {},
     "output_type": "execute_result"
    }
   ],
   "source": [
    "#fill missing values in'language' with the commen value in that column which is 'en'\n",
    "app_data['Language'] = app_data['Language'].fillna('en')\n",
    "#check with count\n",
    "app_data['Language'].value_counts(dropna=False)"
   ]
  },
  {
   "cell_type": "code",
   "execution_count": 10,
   "metadata": {},
   "outputs": [
    {
     "name": "stdout",
     "output_type": "stream",
     "text": [
      "<class 'pandas.core.frame.DataFrame'>\n",
      "Int64Index: 30000 entries, 0 to 29999\n",
      "Data columns (total 16 columns):\n",
      "MAID                30000 non-null object\n",
      "AppBundle           29514 non-null object\n",
      "AppName             29415 non-null object\n",
      "Timestamp           30000 non-null int64\n",
      "UserAgent           30000 non-null object\n",
      "Model               30000 non-null object\n",
      "Operating System    30000 non-null object\n",
      "Device's Brand      30000 non-null object\n",
      "Language            30000 non-null object\n",
      "Lat                 30000 non-null float64\n",
      "Lon                 30000 non-null float64\n",
      "Zip Code            30000 non-null int64\n",
      "City                30000 non-null object\n",
      "Country             30000 non-null object\n",
      "IP                  29641 non-null object\n",
      "Carrier             10460 non-null object\n",
      "dtypes: float64(2), int64(2), object(12)\n",
      "memory usage: 3.9+ MB\n"
     ]
    }
   ],
   "source": [
    "#Checking..\n",
    "app_data.info()"
   ]
  },
  {
   "cell_type": "markdown",
   "metadata": {},
   "source": [
    "Carrier column has around 60% missing data, it is better to drop it "
   ]
  },
  {
   "cell_type": "code",
   "execution_count": 11,
   "metadata": {},
   "outputs": [],
   "source": [
    "#drop carrier column\n",
    "app_coldropped = app_data.drop(['Carrier'], axis=1)"
   ]
  },
  {
   "cell_type": "code",
   "execution_count": 12,
   "metadata": {},
   "outputs": [
    {
     "name": "stdout",
     "output_type": "stream",
     "text": [
      "<class 'pandas.core.frame.DataFrame'>\n",
      "Int64Index: 30000 entries, 0 to 29999\n",
      "Data columns (total 15 columns):\n",
      "MAID                30000 non-null object\n",
      "AppBundle           29514 non-null object\n",
      "AppName             29415 non-null object\n",
      "Timestamp           30000 non-null int64\n",
      "UserAgent           30000 non-null object\n",
      "Model               30000 non-null object\n",
      "Operating System    30000 non-null object\n",
      "Device's Brand      30000 non-null object\n",
      "Language            30000 non-null object\n",
      "Lat                 30000 non-null float64\n",
      "Lon                 30000 non-null float64\n",
      "Zip Code            30000 non-null int64\n",
      "City                30000 non-null object\n",
      "Country             30000 non-null object\n",
      "IP                  29641 non-null object\n",
      "dtypes: float64(2), int64(2), object(11)\n",
      "memory usage: 3.7+ MB\n"
     ]
    }
   ],
   "source": [
    "app_coldropped.info()"
   ]
  },
  {
   "cell_type": "markdown",
   "metadata": {},
   "source": [
    "so now we can drop any row contains missing data"
   ]
  },
  {
   "cell_type": "code",
   "execution_count": 13,
   "metadata": {},
   "outputs": [],
   "source": [
    "#drop rows that contain missing data\n",
    "app_dropped = app_coldropped.dropna()"
   ]
  },
  {
   "cell_type": "code",
   "execution_count": 14,
   "metadata": {},
   "outputs": [
    {
     "name": "stdout",
     "output_type": "stream",
     "text": [
      "<class 'pandas.core.frame.DataFrame'>\n",
      "Int64Index: 29056 entries, 0 to 29999\n",
      "Data columns (total 15 columns):\n",
      "MAID                29056 non-null object\n",
      "AppBundle           29056 non-null object\n",
      "AppName             29056 non-null object\n",
      "Timestamp           29056 non-null int64\n",
      "UserAgent           29056 non-null object\n",
      "Model               29056 non-null object\n",
      "Operating System    29056 non-null object\n",
      "Device's Brand      29056 non-null object\n",
      "Language            29056 non-null object\n",
      "Lat                 29056 non-null float64\n",
      "Lon                 29056 non-null float64\n",
      "Zip Code            29056 non-null int64\n",
      "City                29056 non-null object\n",
      "Country             29056 non-null object\n",
      "IP                  29056 non-null object\n",
      "dtypes: float64(2), int64(2), object(11)\n",
      "memory usage: 3.5+ MB\n"
     ]
    }
   ],
   "source": [
    "app_dropped.info()"
   ]
  },
  {
   "cell_type": "markdown",
   "metadata": {},
   "source": [
    "'Timestamp' column here is integer and ofcourse not readable, so it is better to convert it to be datetype"
   ]
  },
  {
   "cell_type": "code",
   "execution_count": 15,
   "metadata": {},
   "outputs": [
    {
     "data": {
      "text/plain": [
       "0   1970-01-01 00:26:11.814647200\n",
       "1   1970-01-01 00:26:11.814647212\n",
       "2   1970-01-01 00:26:11.814647216\n",
       "3   1970-01-01 00:26:11.814647219\n",
       "4   1970-01-01 00:26:11.814648956\n",
       "Name: Timestamp, dtype: datetime64[ns]"
      ]
     },
     "execution_count": 15,
     "metadata": {},
     "output_type": "execute_result"
    }
   ],
   "source": [
    "#import datetime function\n",
    "from datetime import datetime\n",
    "\n",
    "#convert 'Timestamp' to datetime type\n",
    "normal_date = pd.to_datetime(app_dropped.Timestamp)\n",
    "\n",
    "#have a look\n",
    "normal_date.head()"
   ]
  },
  {
   "cell_type": "code",
   "execution_count": 16,
   "metadata": {},
   "outputs": [
    {
     "name": "stderr",
     "output_type": "stream",
     "text": [
      "C:\\Users\\hp\\Anaconda3\\lib\\site-packages\\ipykernel_launcher.py:2: SettingWithCopyWarning: \n",
      "A value is trying to be set on a copy of a slice from a DataFrame.\n",
      "Try using .loc[row_indexer,col_indexer] = value instead\n",
      "\n",
      "See the caveats in the documentation: http://pandas.pydata.org/pandas-docs/stable/user_guide/indexing.html#returning-a-view-versus-a-copy\n",
      "  \n"
     ]
    },
    {
     "data": {
      "text/html": [
       "<div>\n",
       "<style scoped>\n",
       "    .dataframe tbody tr th:only-of-type {\n",
       "        vertical-align: middle;\n",
       "    }\n",
       "\n",
       "    .dataframe tbody tr th {\n",
       "        vertical-align: top;\n",
       "    }\n",
       "\n",
       "    .dataframe thead th {\n",
       "        text-align: right;\n",
       "    }\n",
       "</style>\n",
       "<table border=\"1\" class=\"dataframe\">\n",
       "  <thead>\n",
       "    <tr style=\"text-align: right;\">\n",
       "      <th></th>\n",
       "      <th>MAID</th>\n",
       "      <th>AppBundle</th>\n",
       "      <th>AppName</th>\n",
       "      <th>Timestamp</th>\n",
       "      <th>UserAgent</th>\n",
       "      <th>Model</th>\n",
       "      <th>Operating System</th>\n",
       "      <th>Device's Brand</th>\n",
       "      <th>Language</th>\n",
       "      <th>Lat</th>\n",
       "      <th>Lon</th>\n",
       "      <th>Zip Code</th>\n",
       "      <th>City</th>\n",
       "      <th>Country</th>\n",
       "      <th>IP</th>\n",
       "      <th>NormalDate</th>\n",
       "    </tr>\n",
       "  </thead>\n",
       "  <tbody>\n",
       "    <tr>\n",
       "      <td>0</td>\n",
       "      <td>730e5cac-ea13-41fb-886c-e5d8459a2304</td>\n",
       "      <td>com.freerange360.mpp.businessinsider</td>\n",
       "      <td>Business Insider</td>\n",
       "      <td>1571814647200</td>\n",
       "      <td>Mozilla/5.0 (Linux; Android 9; moto e5 play Bu...</td>\n",
       "      <td>Moto E5 Play</td>\n",
       "      <td>Android</td>\n",
       "      <td>Motorola</td>\n",
       "      <td>en</td>\n",
       "      <td>34.227800</td>\n",
       "      <td>-118.442000</td>\n",
       "      <td>91331</td>\n",
       "      <td>Pacoima</td>\n",
       "      <td>USA</td>\n",
       "      <td>172.114.113.0</td>\n",
       "      <td>1970-01-01 00:26:11.814647200</td>\n",
       "    </tr>\n",
       "    <tr>\n",
       "      <td>1</td>\n",
       "      <td>6442688f-eb1a-4fd9-b94c-aa8479085533</td>\n",
       "      <td>com.nytimes.android</td>\n",
       "      <td>NYTimes - Latest News</td>\n",
       "      <td>1571814647212</td>\n",
       "      <td>Dalvik/2.1.0 (Linux; U; Android 10; Pixel 3 Bu...</td>\n",
       "      <td>G013A</td>\n",
       "      <td>Android</td>\n",
       "      <td>Google</td>\n",
       "      <td>en</td>\n",
       "      <td>0.000000</td>\n",
       "      <td>0.000000</td>\n",
       "      <td>92376</td>\n",
       "      <td>Rialto</td>\n",
       "      <td>USA</td>\n",
       "      <td>172.58.27.0</td>\n",
       "      <td>1970-01-01 00:26:11.814647212</td>\n",
       "    </tr>\n",
       "    <tr>\n",
       "      <td>2</td>\n",
       "      <td>72AC9540-AE91-436C-94E8-A0151B05686F</td>\n",
       "      <td>281940292</td>\n",
       "      <td>WeatherBug ? Weather Forecast</td>\n",
       "      <td>1571814647216</td>\n",
       "      <td>Mozilla/5.0 (iPhone; CPU iPhone OS 12_4_2 like...</td>\n",
       "      <td>iPhone</td>\n",
       "      <td>Apple iOS</td>\n",
       "      <td>Apple</td>\n",
       "      <td>en</td>\n",
       "      <td>32.561523</td>\n",
       "      <td>-90.193115</td>\n",
       "      <td>30310</td>\n",
       "      <td>Atlanta</td>\n",
       "      <td>USA</td>\n",
       "      <td>107.77.234.0</td>\n",
       "      <td>1970-01-01 00:26:11.814647216</td>\n",
       "    </tr>\n",
       "    <tr>\n",
       "      <td>3</td>\n",
       "      <td>f34c6075-fa72-44b3-942c-7ff64fbe4df1</td>\n",
       "      <td>com.enflick.android.TextNow</td>\n",
       "      <td>TextNow: Free Texting &amp; Calling App</td>\n",
       "      <td>1571814647219</td>\n",
       "      <td>Mozilla/5.0 (Linux; Android 6.0.1; SM-G900P Bu...</td>\n",
       "      <td>SM-G900P</td>\n",
       "      <td>Android</td>\n",
       "      <td>Sprint</td>\n",
       "      <td>en</td>\n",
       "      <td>0.000000</td>\n",
       "      <td>0.000000</td>\n",
       "      <td>80207</td>\n",
       "      <td>Denver</td>\n",
       "      <td>USA</td>\n",
       "      <td>76.120.23.0</td>\n",
       "      <td>1970-01-01 00:26:11.814647219</td>\n",
       "    </tr>\n",
       "    <tr>\n",
       "      <td>4</td>\n",
       "      <td>6f666e2a-4384-4430-953d-b17461fcd479</td>\n",
       "      <td>com.enflick.android.TextNow</td>\n",
       "      <td>TextNow: Free Texting &amp; Calling App</td>\n",
       "      <td>1571814648956</td>\n",
       "      <td>Mozilla/5.0 (Linux; Android 7.0; LGMP260 Build...</td>\n",
       "      <td>MP260</td>\n",
       "      <td>Android</td>\n",
       "      <td>LG</td>\n",
       "      <td>en</td>\n",
       "      <td>0.000000</td>\n",
       "      <td>0.000000</td>\n",
       "      <td>47905</td>\n",
       "      <td>Lafayette</td>\n",
       "      <td>USA</td>\n",
       "      <td>73.103.23.0</td>\n",
       "      <td>1970-01-01 00:26:11.814648956</td>\n",
       "    </tr>\n",
       "  </tbody>\n",
       "</table>\n",
       "</div>"
      ],
      "text/plain": [
       "                                   MAID                             AppBundle  \\\n",
       "0  730e5cac-ea13-41fb-886c-e5d8459a2304  com.freerange360.mpp.businessinsider   \n",
       "1  6442688f-eb1a-4fd9-b94c-aa8479085533                   com.nytimes.android   \n",
       "2  72AC9540-AE91-436C-94E8-A0151B05686F                             281940292   \n",
       "3  f34c6075-fa72-44b3-942c-7ff64fbe4df1           com.enflick.android.TextNow   \n",
       "4  6f666e2a-4384-4430-953d-b17461fcd479           com.enflick.android.TextNow   \n",
       "\n",
       "                               AppName      Timestamp  \\\n",
       "0                     Business Insider  1571814647200   \n",
       "1                NYTimes - Latest News  1571814647212   \n",
       "2        WeatherBug ? Weather Forecast  1571814647216   \n",
       "3  TextNow: Free Texting & Calling App  1571814647219   \n",
       "4  TextNow: Free Texting & Calling App  1571814648956   \n",
       "\n",
       "                                           UserAgent         Model  \\\n",
       "0  Mozilla/5.0 (Linux; Android 9; moto e5 play Bu...  Moto E5 Play   \n",
       "1  Dalvik/2.1.0 (Linux; U; Android 10; Pixel 3 Bu...         G013A   \n",
       "2  Mozilla/5.0 (iPhone; CPU iPhone OS 12_4_2 like...        iPhone   \n",
       "3  Mozilla/5.0 (Linux; Android 6.0.1; SM-G900P Bu...      SM-G900P   \n",
       "4  Mozilla/5.0 (Linux; Android 7.0; LGMP260 Build...         MP260   \n",
       "\n",
       "  Operating System Device's Brand Language        Lat         Lon  Zip Code  \\\n",
       "0          Android       Motorola       en  34.227800 -118.442000     91331   \n",
       "1          Android         Google       en   0.000000    0.000000     92376   \n",
       "2        Apple iOS          Apple       en  32.561523  -90.193115     30310   \n",
       "3          Android         Sprint       en   0.000000    0.000000     80207   \n",
       "4          Android             LG       en   0.000000    0.000000     47905   \n",
       "\n",
       "        City Country             IP                    NormalDate  \n",
       "0    Pacoima     USA  172.114.113.0 1970-01-01 00:26:11.814647200  \n",
       "1     Rialto     USA    172.58.27.0 1970-01-01 00:26:11.814647212  \n",
       "2    Atlanta     USA   107.77.234.0 1970-01-01 00:26:11.814647216  \n",
       "3     Denver     USA    76.120.23.0 1970-01-01 00:26:11.814647219  \n",
       "4  Lafayette     USA    73.103.23.0 1970-01-01 00:26:11.814648956  "
      ]
     },
     "execution_count": 16,
     "metadata": {},
     "output_type": "execute_result"
    }
   ],
   "source": [
    "#let's merge the new column 'normal_date' into our dataframe\n",
    "app_dropped['NormalDate'] = normal_date\n",
    "\n",
    "#have a look\n",
    "app_dropped.head()"
   ]
  },
  {
   "cell_type": "markdown",
   "metadata": {},
   "source": [
    "after adding the new column, \"Timestamp\" is not useful and it is better to be  dropped"
   ]
  },
  {
   "cell_type": "code",
   "execution_count": 17,
   "metadata": {},
   "outputs": [
    {
     "data": {
      "text/html": [
       "<div>\n",
       "<style scoped>\n",
       "    .dataframe tbody tr th:only-of-type {\n",
       "        vertical-align: middle;\n",
       "    }\n",
       "\n",
       "    .dataframe tbody tr th {\n",
       "        vertical-align: top;\n",
       "    }\n",
       "\n",
       "    .dataframe thead th {\n",
       "        text-align: right;\n",
       "    }\n",
       "</style>\n",
       "<table border=\"1\" class=\"dataframe\">\n",
       "  <thead>\n",
       "    <tr style=\"text-align: right;\">\n",
       "      <th></th>\n",
       "      <th>MAID</th>\n",
       "      <th>AppBundle</th>\n",
       "      <th>AppName</th>\n",
       "      <th>UserAgent</th>\n",
       "      <th>Model</th>\n",
       "      <th>Operating System</th>\n",
       "      <th>Device's Brand</th>\n",
       "      <th>Language</th>\n",
       "      <th>Lat</th>\n",
       "      <th>Lon</th>\n",
       "      <th>Zip Code</th>\n",
       "      <th>City</th>\n",
       "      <th>Country</th>\n",
       "      <th>IP</th>\n",
       "      <th>NormalDate</th>\n",
       "    </tr>\n",
       "  </thead>\n",
       "  <tbody>\n",
       "    <tr>\n",
       "      <td>0</td>\n",
       "      <td>730e5cac-ea13-41fb-886c-e5d8459a2304</td>\n",
       "      <td>com.freerange360.mpp.businessinsider</td>\n",
       "      <td>Business Insider</td>\n",
       "      <td>Mozilla/5.0 (Linux; Android 9; moto e5 play Bu...</td>\n",
       "      <td>Moto E5 Play</td>\n",
       "      <td>Android</td>\n",
       "      <td>Motorola</td>\n",
       "      <td>en</td>\n",
       "      <td>34.227800</td>\n",
       "      <td>-118.442000</td>\n",
       "      <td>91331</td>\n",
       "      <td>Pacoima</td>\n",
       "      <td>USA</td>\n",
       "      <td>172.114.113.0</td>\n",
       "      <td>1970-01-01 00:26:11.814647200</td>\n",
       "    </tr>\n",
       "    <tr>\n",
       "      <td>1</td>\n",
       "      <td>6442688f-eb1a-4fd9-b94c-aa8479085533</td>\n",
       "      <td>com.nytimes.android</td>\n",
       "      <td>NYTimes - Latest News</td>\n",
       "      <td>Dalvik/2.1.0 (Linux; U; Android 10; Pixel 3 Bu...</td>\n",
       "      <td>G013A</td>\n",
       "      <td>Android</td>\n",
       "      <td>Google</td>\n",
       "      <td>en</td>\n",
       "      <td>0.000000</td>\n",
       "      <td>0.000000</td>\n",
       "      <td>92376</td>\n",
       "      <td>Rialto</td>\n",
       "      <td>USA</td>\n",
       "      <td>172.58.27.0</td>\n",
       "      <td>1970-01-01 00:26:11.814647212</td>\n",
       "    </tr>\n",
       "    <tr>\n",
       "      <td>2</td>\n",
       "      <td>72AC9540-AE91-436C-94E8-A0151B05686F</td>\n",
       "      <td>281940292</td>\n",
       "      <td>WeatherBug ? Weather Forecast</td>\n",
       "      <td>Mozilla/5.0 (iPhone; CPU iPhone OS 12_4_2 like...</td>\n",
       "      <td>iPhone</td>\n",
       "      <td>Apple iOS</td>\n",
       "      <td>Apple</td>\n",
       "      <td>en</td>\n",
       "      <td>32.561523</td>\n",
       "      <td>-90.193115</td>\n",
       "      <td>30310</td>\n",
       "      <td>Atlanta</td>\n",
       "      <td>USA</td>\n",
       "      <td>107.77.234.0</td>\n",
       "      <td>1970-01-01 00:26:11.814647216</td>\n",
       "    </tr>\n",
       "    <tr>\n",
       "      <td>3</td>\n",
       "      <td>f34c6075-fa72-44b3-942c-7ff64fbe4df1</td>\n",
       "      <td>com.enflick.android.TextNow</td>\n",
       "      <td>TextNow: Free Texting &amp; Calling App</td>\n",
       "      <td>Mozilla/5.0 (Linux; Android 6.0.1; SM-G900P Bu...</td>\n",
       "      <td>SM-G900P</td>\n",
       "      <td>Android</td>\n",
       "      <td>Sprint</td>\n",
       "      <td>en</td>\n",
       "      <td>0.000000</td>\n",
       "      <td>0.000000</td>\n",
       "      <td>80207</td>\n",
       "      <td>Denver</td>\n",
       "      <td>USA</td>\n",
       "      <td>76.120.23.0</td>\n",
       "      <td>1970-01-01 00:26:11.814647219</td>\n",
       "    </tr>\n",
       "    <tr>\n",
       "      <td>4</td>\n",
       "      <td>6f666e2a-4384-4430-953d-b17461fcd479</td>\n",
       "      <td>com.enflick.android.TextNow</td>\n",
       "      <td>TextNow: Free Texting &amp; Calling App</td>\n",
       "      <td>Mozilla/5.0 (Linux; Android 7.0; LGMP260 Build...</td>\n",
       "      <td>MP260</td>\n",
       "      <td>Android</td>\n",
       "      <td>LG</td>\n",
       "      <td>en</td>\n",
       "      <td>0.000000</td>\n",
       "      <td>0.000000</td>\n",
       "      <td>47905</td>\n",
       "      <td>Lafayette</td>\n",
       "      <td>USA</td>\n",
       "      <td>73.103.23.0</td>\n",
       "      <td>1970-01-01 00:26:11.814648956</td>\n",
       "    </tr>\n",
       "  </tbody>\n",
       "</table>\n",
       "</div>"
      ],
      "text/plain": [
       "                                   MAID                             AppBundle  \\\n",
       "0  730e5cac-ea13-41fb-886c-e5d8459a2304  com.freerange360.mpp.businessinsider   \n",
       "1  6442688f-eb1a-4fd9-b94c-aa8479085533                   com.nytimes.android   \n",
       "2  72AC9540-AE91-436C-94E8-A0151B05686F                             281940292   \n",
       "3  f34c6075-fa72-44b3-942c-7ff64fbe4df1           com.enflick.android.TextNow   \n",
       "4  6f666e2a-4384-4430-953d-b17461fcd479           com.enflick.android.TextNow   \n",
       "\n",
       "                               AppName  \\\n",
       "0                     Business Insider   \n",
       "1                NYTimes - Latest News   \n",
       "2        WeatherBug ? Weather Forecast   \n",
       "3  TextNow: Free Texting & Calling App   \n",
       "4  TextNow: Free Texting & Calling App   \n",
       "\n",
       "                                           UserAgent         Model  \\\n",
       "0  Mozilla/5.0 (Linux; Android 9; moto e5 play Bu...  Moto E5 Play   \n",
       "1  Dalvik/2.1.0 (Linux; U; Android 10; Pixel 3 Bu...         G013A   \n",
       "2  Mozilla/5.0 (iPhone; CPU iPhone OS 12_4_2 like...        iPhone   \n",
       "3  Mozilla/5.0 (Linux; Android 6.0.1; SM-G900P Bu...      SM-G900P   \n",
       "4  Mozilla/5.0 (Linux; Android 7.0; LGMP260 Build...         MP260   \n",
       "\n",
       "  Operating System Device's Brand Language        Lat         Lon  Zip Code  \\\n",
       "0          Android       Motorola       en  34.227800 -118.442000     91331   \n",
       "1          Android         Google       en   0.000000    0.000000     92376   \n",
       "2        Apple iOS          Apple       en  32.561523  -90.193115     30310   \n",
       "3          Android         Sprint       en   0.000000    0.000000     80207   \n",
       "4          Android             LG       en   0.000000    0.000000     47905   \n",
       "\n",
       "        City Country             IP                    NormalDate  \n",
       "0    Pacoima     USA  172.114.113.0 1970-01-01 00:26:11.814647200  \n",
       "1     Rialto     USA    172.58.27.0 1970-01-01 00:26:11.814647212  \n",
       "2    Atlanta     USA   107.77.234.0 1970-01-01 00:26:11.814647216  \n",
       "3     Denver     USA    76.120.23.0 1970-01-01 00:26:11.814647219  \n",
       "4  Lafayette     USA    73.103.23.0 1970-01-01 00:26:11.814648956  "
      ]
     },
     "execution_count": 17,
     "metadata": {},
     "output_type": "execute_result"
    }
   ],
   "source": [
    "#drop timestamp column\n",
    "app_data_cleaned = app_dropped.drop(['Timestamp'], axis=1)\n",
    "\n",
    "#have a look\n",
    "app_data_cleaned.head()"
   ]
  },
  {
   "cell_type": "code",
   "execution_count": 18,
   "metadata": {},
   "outputs": [
    {
     "name": "stdout",
     "output_type": "stream",
     "text": [
      "<class 'pandas.core.frame.DataFrame'>\n",
      "Int64Index: 29056 entries, 0 to 29999\n",
      "Data columns (total 15 columns):\n",
      "MAID                29056 non-null object\n",
      "AppBundle           29056 non-null object\n",
      "AppName             29056 non-null object\n",
      "UserAgent           29056 non-null object\n",
      "Model               29056 non-null object\n",
      "Operating System    29056 non-null object\n",
      "Device's Brand      29056 non-null object\n",
      "Language            29056 non-null object\n",
      "Lat                 29056 non-null float64\n",
      "Lon                 29056 non-null float64\n",
      "Zip Code            29056 non-null int64\n",
      "City                29056 non-null object\n",
      "Country             29056 non-null object\n",
      "IP                  29056 non-null object\n",
      "NormalDate          29056 non-null datetime64[ns]\n",
      "dtypes: datetime64[ns](1), float64(2), int64(1), object(11)\n",
      "memory usage: 3.5+ MB\n"
     ]
    }
   ],
   "source": [
    "app_data_cleaned.info()"
   ]
  },
  {
   "cell_type": "code",
   "execution_count": 19,
   "metadata": {},
   "outputs": [
    {
     "data": {
      "text/html": [
       "<div>\n",
       "<style scoped>\n",
       "    .dataframe tbody tr th:only-of-type {\n",
       "        vertical-align: middle;\n",
       "    }\n",
       "\n",
       "    .dataframe tbody tr th {\n",
       "        vertical-align: top;\n",
       "    }\n",
       "\n",
       "    .dataframe thead th {\n",
       "        text-align: right;\n",
       "    }\n",
       "</style>\n",
       "<table border=\"1\" class=\"dataframe\">\n",
       "  <thead>\n",
       "    <tr style=\"text-align: right;\">\n",
       "      <th></th>\n",
       "      <th>Lat</th>\n",
       "      <th>Lon</th>\n",
       "      <th>Zip Code</th>\n",
       "    </tr>\n",
       "  </thead>\n",
       "  <tbody>\n",
       "    <tr>\n",
       "      <td>count</td>\n",
       "      <td>29056.000000</td>\n",
       "      <td>29056.000000</td>\n",
       "      <td>29056.000000</td>\n",
       "    </tr>\n",
       "    <tr>\n",
       "      <td>mean</td>\n",
       "      <td>26.633589</td>\n",
       "      <td>-69.503016</td>\n",
       "      <td>58960.584389</td>\n",
       "    </tr>\n",
       "    <tr>\n",
       "      <td>std</td>\n",
       "      <td>17.464978</td>\n",
       "      <td>46.727098</td>\n",
       "      <td>29990.347681</td>\n",
       "    </tr>\n",
       "    <tr>\n",
       "      <td>min</td>\n",
       "      <td>-1.000000</td>\n",
       "      <td>-160.038300</td>\n",
       "      <td>1002.000000</td>\n",
       "    </tr>\n",
       "    <tr>\n",
       "      <td>25%</td>\n",
       "      <td>0.000000</td>\n",
       "      <td>-102.089800</td>\n",
       "      <td>32348.000000</td>\n",
       "    </tr>\n",
       "    <tr>\n",
       "      <td>50%</td>\n",
       "      <td>34.040817</td>\n",
       "      <td>-84.100650</td>\n",
       "      <td>60901.000000</td>\n",
       "    </tr>\n",
       "    <tr>\n",
       "      <td>75%</td>\n",
       "      <td>39.784325</td>\n",
       "      <td>0.000000</td>\n",
       "      <td>89431.000000</td>\n",
       "    </tr>\n",
       "    <tr>\n",
       "      <td>max</td>\n",
       "      <td>71.301500</td>\n",
       "      <td>125.227356</td>\n",
       "      <td>99835.000000</td>\n",
       "    </tr>\n",
       "  </tbody>\n",
       "</table>\n",
       "</div>"
      ],
      "text/plain": [
       "                Lat           Lon      Zip Code\n",
       "count  29056.000000  29056.000000  29056.000000\n",
       "mean      26.633589    -69.503016  58960.584389\n",
       "std       17.464978     46.727098  29990.347681\n",
       "min       -1.000000   -160.038300   1002.000000\n",
       "25%        0.000000   -102.089800  32348.000000\n",
       "50%       34.040817    -84.100650  60901.000000\n",
       "75%       39.784325      0.000000  89431.000000\n",
       "max       71.301500    125.227356  99835.000000"
      ]
     },
     "execution_count": 19,
     "metadata": {},
     "output_type": "execute_result"
    }
   ],
   "source": [
    "app_data_cleaned.describe()"
   ]
  },
  {
   "cell_type": "markdown",
   "metadata": {},
   "source": [
    "### Now data is cleaned "
   ]
  },
  {
   "cell_type": "markdown",
   "metadata": {},
   "source": [
    "let's save this cleaned data frame in an Excel file 'cleaneddf.xlsx'"
   ]
  },
  {
   "cell_type": "code",
   "execution_count": 20,
   "metadata": {},
   "outputs": [],
   "source": [
    "#app_data_cleaned.to_excel(r'E:\\convirted in\\cleaned Data\\cleaneddf.xlsx', index = False)"
   ]
  },
  {
   "cell_type": "markdown",
   "metadata": {},
   "source": [
    "# ............................................................................................................................"
   ]
  },
  {
   "cell_type": "markdown",
   "metadata": {},
   "source": [
    "we can say that as company, we need to know which OS needs a focus and  to be invested most  without having any info related to OS nor Model at any future Data, we may consider the 'Operating System' is the target"
   ]
  },
  {
   "cell_type": "markdown",
   "metadata": {},
   "source": [
    "## 5)Selecting The Target \"Operating System\" of the model"
   ]
  },
  {
   "cell_type": "code",
   "execution_count": 21,
   "metadata": {},
   "outputs": [
    {
     "data": {
      "text/html": [
       "<div>\n",
       "<style scoped>\n",
       "    .dataframe tbody tr th:only-of-type {\n",
       "        vertical-align: middle;\n",
       "    }\n",
       "\n",
       "    .dataframe tbody tr th {\n",
       "        vertical-align: top;\n",
       "    }\n",
       "\n",
       "    .dataframe thead th {\n",
       "        text-align: right;\n",
       "    }\n",
       "</style>\n",
       "<table border=\"1\" class=\"dataframe\">\n",
       "  <thead>\n",
       "    <tr style=\"text-align: right;\">\n",
       "      <th></th>\n",
       "      <th>MAID</th>\n",
       "      <th>AppBundle</th>\n",
       "      <th>AppName</th>\n",
       "      <th>UserAgent</th>\n",
       "      <th>Model</th>\n",
       "      <th>Operating System</th>\n",
       "      <th>Device's Brand</th>\n",
       "      <th>Language</th>\n",
       "      <th>Lat</th>\n",
       "      <th>Lon</th>\n",
       "      <th>Zip Code</th>\n",
       "      <th>City</th>\n",
       "      <th>Country</th>\n",
       "      <th>IP</th>\n",
       "      <th>NormalDate</th>\n",
       "    </tr>\n",
       "  </thead>\n",
       "  <tbody>\n",
       "    <tr>\n",
       "      <td>0</td>\n",
       "      <td>730e5cac-ea13-41fb-886c-e5d8459a2304</td>\n",
       "      <td>com.freerange360.mpp.businessinsider</td>\n",
       "      <td>Business Insider</td>\n",
       "      <td>Mozilla/5.0 (Linux; Android 9; moto e5 play Bu...</td>\n",
       "      <td>Moto E5 Play</td>\n",
       "      <td>Android</td>\n",
       "      <td>Motorola</td>\n",
       "      <td>en</td>\n",
       "      <td>34.227800</td>\n",
       "      <td>-118.442000</td>\n",
       "      <td>91331</td>\n",
       "      <td>Pacoima</td>\n",
       "      <td>USA</td>\n",
       "      <td>172.114.113.0</td>\n",
       "      <td>1970-01-01 00:26:11.815</td>\n",
       "    </tr>\n",
       "    <tr>\n",
       "      <td>1</td>\n",
       "      <td>6442688f-eb1a-4fd9-b94c-aa8479085533</td>\n",
       "      <td>com.nytimes.android</td>\n",
       "      <td>NYTimes - Latest News</td>\n",
       "      <td>Dalvik/2.1.0 (Linux; U; Android 10; Pixel 3 Bu...</td>\n",
       "      <td>G013A</td>\n",
       "      <td>Android</td>\n",
       "      <td>Google</td>\n",
       "      <td>en</td>\n",
       "      <td>0.000000</td>\n",
       "      <td>0.000000</td>\n",
       "      <td>92376</td>\n",
       "      <td>Rialto</td>\n",
       "      <td>USA</td>\n",
       "      <td>172.58.27.0</td>\n",
       "      <td>1970-01-01 00:26:11.815</td>\n",
       "    </tr>\n",
       "    <tr>\n",
       "      <td>2</td>\n",
       "      <td>72AC9540-AE91-436C-94E8-A0151B05686F</td>\n",
       "      <td>281940292</td>\n",
       "      <td>WeatherBug ? Weather Forecast</td>\n",
       "      <td>Mozilla/5.0 (iPhone; CPU iPhone OS 12_4_2 like...</td>\n",
       "      <td>iPhone</td>\n",
       "      <td>Apple iOS</td>\n",
       "      <td>Apple</td>\n",
       "      <td>en</td>\n",
       "      <td>32.561523</td>\n",
       "      <td>-90.193115</td>\n",
       "      <td>30310</td>\n",
       "      <td>Atlanta</td>\n",
       "      <td>USA</td>\n",
       "      <td>107.77.234.0</td>\n",
       "      <td>1970-01-01 00:26:11.815</td>\n",
       "    </tr>\n",
       "    <tr>\n",
       "      <td>3</td>\n",
       "      <td>f34c6075-fa72-44b3-942c-7ff64fbe4df1</td>\n",
       "      <td>com.enflick.android.TextNow</td>\n",
       "      <td>TextNow: Free Texting &amp; Calling App</td>\n",
       "      <td>Mozilla/5.0 (Linux; Android 6.0.1; SM-G900P Bu...</td>\n",
       "      <td>SM-G900P</td>\n",
       "      <td>Android</td>\n",
       "      <td>Sprint</td>\n",
       "      <td>en</td>\n",
       "      <td>0.000000</td>\n",
       "      <td>0.000000</td>\n",
       "      <td>80207</td>\n",
       "      <td>Denver</td>\n",
       "      <td>USA</td>\n",
       "      <td>76.120.23.0</td>\n",
       "      <td>1970-01-01 00:26:11.815</td>\n",
       "    </tr>\n",
       "    <tr>\n",
       "      <td>4</td>\n",
       "      <td>6f666e2a-4384-4430-953d-b17461fcd479</td>\n",
       "      <td>com.enflick.android.TextNow</td>\n",
       "      <td>TextNow: Free Texting &amp; Calling App</td>\n",
       "      <td>Mozilla/5.0 (Linux; Android 7.0; LGMP260 Build...</td>\n",
       "      <td>MP260</td>\n",
       "      <td>Android</td>\n",
       "      <td>LG</td>\n",
       "      <td>en</td>\n",
       "      <td>0.000000</td>\n",
       "      <td>0.000000</td>\n",
       "      <td>47905</td>\n",
       "      <td>Lafayette</td>\n",
       "      <td>USA</td>\n",
       "      <td>73.103.23.0</td>\n",
       "      <td>1970-01-01 00:26:11.815</td>\n",
       "    </tr>\n",
       "  </tbody>\n",
       "</table>\n",
       "</div>"
      ],
      "text/plain": [
       "                                   MAID                             AppBundle  \\\n",
       "0  730e5cac-ea13-41fb-886c-e5d8459a2304  com.freerange360.mpp.businessinsider   \n",
       "1  6442688f-eb1a-4fd9-b94c-aa8479085533                   com.nytimes.android   \n",
       "2  72AC9540-AE91-436C-94E8-A0151B05686F                             281940292   \n",
       "3  f34c6075-fa72-44b3-942c-7ff64fbe4df1           com.enflick.android.TextNow   \n",
       "4  6f666e2a-4384-4430-953d-b17461fcd479           com.enflick.android.TextNow   \n",
       "\n",
       "                               AppName  \\\n",
       "0                     Business Insider   \n",
       "1                NYTimes - Latest News   \n",
       "2        WeatherBug ? Weather Forecast   \n",
       "3  TextNow: Free Texting & Calling App   \n",
       "4  TextNow: Free Texting & Calling App   \n",
       "\n",
       "                                           UserAgent         Model  \\\n",
       "0  Mozilla/5.0 (Linux; Android 9; moto e5 play Bu...  Moto E5 Play   \n",
       "1  Dalvik/2.1.0 (Linux; U; Android 10; Pixel 3 Bu...         G013A   \n",
       "2  Mozilla/5.0 (iPhone; CPU iPhone OS 12_4_2 like...        iPhone   \n",
       "3  Mozilla/5.0 (Linux; Android 6.0.1; SM-G900P Bu...      SM-G900P   \n",
       "4  Mozilla/5.0 (Linux; Android 7.0; LGMP260 Build...         MP260   \n",
       "\n",
       "  Operating System Device's Brand Language        Lat         Lon  Zip Code  \\\n",
       "0          Android       Motorola       en  34.227800 -118.442000     91331   \n",
       "1          Android         Google       en   0.000000    0.000000     92376   \n",
       "2        Apple iOS          Apple       en  32.561523  -90.193115     30310   \n",
       "3          Android         Sprint       en   0.000000    0.000000     80207   \n",
       "4          Android             LG       en   0.000000    0.000000     47905   \n",
       "\n",
       "        City Country             IP              NormalDate  \n",
       "0    Pacoima     USA  172.114.113.0 1970-01-01 00:26:11.815  \n",
       "1     Rialto     USA    172.58.27.0 1970-01-01 00:26:11.815  \n",
       "2    Atlanta     USA   107.77.234.0 1970-01-01 00:26:11.815  \n",
       "3     Denver     USA    76.120.23.0 1970-01-01 00:26:11.815  \n",
       "4  Lafayette     USA    73.103.23.0 1970-01-01 00:26:11.815  "
      ]
     },
     "execution_count": 21,
     "metadata": {},
     "output_type": "execute_result"
    }
   ],
   "source": [
    "#import pandas \n",
    "import pandas as pd\n",
    "#data file path\n",
    "data_path = \"E:\\convirted in\\cleaned Data\\cleaneddf.xlsx\"\n",
    "#import the CSV file\n",
    "datausapp = pd.read_excel(data_path) \n",
    "datausapp.head()"
   ]
  },
  {
   "cell_type": "markdown",
   "metadata": {},
   "source": [
    "apostrophe in column(Device's brand) gonna make issues with me, so i'm gonna change it to be like.. 'Devices Brand'"
   ]
  },
  {
   "cell_type": "code",
   "execution_count": 22,
   "metadata": {},
   "outputs": [],
   "source": [
    "# once we find \"'\" replace it with \"\"\n",
    "datausapp.columns = datausapp.columns.str.replace(\"'\",\"\")"
   ]
  },
  {
   "cell_type": "code",
   "execution_count": 23,
   "metadata": {},
   "outputs": [
    {
     "name": "stdout",
     "output_type": "stream",
     "text": [
      "<class 'pandas.core.frame.DataFrame'>\n",
      "RangeIndex: 29056 entries, 0 to 29055\n",
      "Data columns (total 15 columns):\n",
      "MAID                29056 non-null object\n",
      "AppBundle           29056 non-null object\n",
      "AppName             29056 non-null object\n",
      "UserAgent           29056 non-null object\n",
      "Model               29056 non-null object\n",
      "Operating System    29056 non-null object\n",
      "Devices Brand       29056 non-null object\n",
      "Language            29056 non-null object\n",
      "Lat                 29056 non-null float64\n",
      "Lon                 29056 non-null float64\n",
      "Zip Code            29056 non-null int64\n",
      "City                29056 non-null object\n",
      "Country             29056 non-null object\n",
      "IP                  29056 non-null object\n",
      "NormalDate          29056 non-null datetime64[ns]\n",
      "dtypes: datetime64[ns](1), float64(2), int64(1), object(11)\n",
      "memory usage: 3.3+ MB\n"
     ]
    }
   ],
   "source": [
    "#let's check\n",
    "datausapp.info()"
   ]
  },
  {
   "cell_type": "markdown",
   "metadata": {},
   "source": [
    "## 6)create new columns and eliminate others"
   ]
  },
  {
   "cell_type": "code",
   "execution_count": 24,
   "metadata": {},
   "outputs": [],
   "source": [
    "#create new columns\n",
    "datausapp['AppB-N'] = datausapp['AppBundle'] +  datausapp['AppName']\n",
    "datausapp['DeviceM-B'] = datausapp['Model'] +  datausapp['Devices Brand']\n",
    "datausapp['Location'] = datausapp['Country'] +  datausapp['City']"
   ]
  },
  {
   "cell_type": "code",
   "execution_count": 25,
   "metadata": {},
   "outputs": [
    {
     "name": "stdout",
     "output_type": "stream",
     "text": [
      "<class 'pandas.core.frame.DataFrame'>\n",
      "RangeIndex: 29056 entries, 0 to 29055\n",
      "Data columns (total 18 columns):\n",
      "MAID                29056 non-null object\n",
      "AppBundle           29056 non-null object\n",
      "AppName             29056 non-null object\n",
      "UserAgent           29056 non-null object\n",
      "Model               29056 non-null object\n",
      "Operating System    29056 non-null object\n",
      "Devices Brand       29056 non-null object\n",
      "Language            29056 non-null object\n",
      "Lat                 29056 non-null float64\n",
      "Lon                 29056 non-null float64\n",
      "Zip Code            29056 non-null int64\n",
      "City                29056 non-null object\n",
      "Country             29056 non-null object\n",
      "IP                  29056 non-null object\n",
      "NormalDate          29056 non-null datetime64[ns]\n",
      "AppB-N              29056 non-null object\n",
      "DeviceM-B           29056 non-null object\n",
      "Location            29056 non-null object\n",
      "dtypes: datetime64[ns](1), float64(2), int64(1), object(14)\n",
      "memory usage: 4.0+ MB\n"
     ]
    }
   ],
   "source": [
    "#let's check\n",
    "datausapp.info()"
   ]
  },
  {
   "cell_type": "code",
   "execution_count": 26,
   "metadata": {},
   "outputs": [
    {
     "data": {
      "text/html": [
       "<div>\n",
       "<style scoped>\n",
       "    .dataframe tbody tr th:only-of-type {\n",
       "        vertical-align: middle;\n",
       "    }\n",
       "\n",
       "    .dataframe tbody tr th {\n",
       "        vertical-align: top;\n",
       "    }\n",
       "\n",
       "    .dataframe thead th {\n",
       "        text-align: right;\n",
       "    }\n",
       "</style>\n",
       "<table border=\"1\" class=\"dataframe\">\n",
       "  <thead>\n",
       "    <tr style=\"text-align: right;\">\n",
       "      <th></th>\n",
       "      <th>MAID</th>\n",
       "      <th>AppBundle</th>\n",
       "      <th>AppName</th>\n",
       "      <th>UserAgent</th>\n",
       "      <th>Model</th>\n",
       "      <th>Operating System</th>\n",
       "      <th>Devices Brand</th>\n",
       "      <th>Language</th>\n",
       "      <th>Lat</th>\n",
       "      <th>Lon</th>\n",
       "      <th>Zip Code</th>\n",
       "      <th>City</th>\n",
       "      <th>Country</th>\n",
       "      <th>IP</th>\n",
       "      <th>NormalDate</th>\n",
       "      <th>AppB-N</th>\n",
       "      <th>DeviceM-B</th>\n",
       "      <th>Location</th>\n",
       "    </tr>\n",
       "  </thead>\n",
       "  <tbody>\n",
       "    <tr>\n",
       "      <td>0</td>\n",
       "      <td>730e5cac-ea13-41fb-886c-e5d8459a2304</td>\n",
       "      <td>com.freerange360.mpp.businessinsider</td>\n",
       "      <td>Business Insider</td>\n",
       "      <td>Mozilla/5.0 (Linux; Android 9; moto e5 play Bu...</td>\n",
       "      <td>Moto E5 Play</td>\n",
       "      <td>Android</td>\n",
       "      <td>Motorola</td>\n",
       "      <td>en</td>\n",
       "      <td>34.2278</td>\n",
       "      <td>-118.442</td>\n",
       "      <td>91331</td>\n",
       "      <td>Pacoima</td>\n",
       "      <td>USA</td>\n",
       "      <td>172.114.113.0</td>\n",
       "      <td>1970-01-01 00:26:11.815</td>\n",
       "      <td>com.freerange360.mpp.businessinsiderBusiness I...</td>\n",
       "      <td>Moto E5 PlayMotorola</td>\n",
       "      <td>USAPacoima</td>\n",
       "    </tr>\n",
       "  </tbody>\n",
       "</table>\n",
       "</div>"
      ],
      "text/plain": [
       "                                   MAID                             AppBundle  \\\n",
       "0  730e5cac-ea13-41fb-886c-e5d8459a2304  com.freerange360.mpp.businessinsider   \n",
       "\n",
       "            AppName                                          UserAgent  \\\n",
       "0  Business Insider  Mozilla/5.0 (Linux; Android 9; moto e5 play Bu...   \n",
       "\n",
       "          Model Operating System Devices Brand Language      Lat      Lon  \\\n",
       "0  Moto E5 Play          Android      Motorola       en  34.2278 -118.442   \n",
       "\n",
       "   Zip Code     City Country             IP              NormalDate  \\\n",
       "0     91331  Pacoima     USA  172.114.113.0 1970-01-01 00:26:11.815   \n",
       "\n",
       "                                              AppB-N             DeviceM-B  \\\n",
       "0  com.freerange360.mpp.businessinsiderBusiness I...  Moto E5 PlayMotorola   \n",
       "\n",
       "     Location  \n",
       "0  USAPacoima  "
      ]
     },
     "execution_count": 26,
     "metadata": {},
     "output_type": "execute_result"
    }
   ],
   "source": [
    "#let's see\n",
    "datausapp.head(1)"
   ]
  },
  {
   "cell_type": "markdown",
   "metadata": {},
   "source": [
    "no need now to columns ['AppBundle', 'AppName', 'Model', 'Devices Brand', 'Country', 'City'], will be eliminated"
   ]
  },
  {
   "cell_type": "code",
   "execution_count": 27,
   "metadata": {},
   "outputs": [],
   "source": [
    "#Eliminate column ['AppBundle', 'AppName', 'Model', 'Devices Brand', 'Country', 'City']\n",
    "dataapp = datausapp.drop(['AppBundle', 'AppName', 'Model', 'Devices Brand', 'Country', 'City'], axis=1)"
   ]
  },
  {
   "cell_type": "code",
   "execution_count": 28,
   "metadata": {},
   "outputs": [
    {
     "name": "stdout",
     "output_type": "stream",
     "text": [
      "<class 'pandas.core.frame.DataFrame'>\n",
      "RangeIndex: 29056 entries, 0 to 29055\n",
      "Data columns (total 12 columns):\n",
      "MAID                29056 non-null object\n",
      "UserAgent           29056 non-null object\n",
      "Operating System    29056 non-null object\n",
      "Language            29056 non-null object\n",
      "Lat                 29056 non-null float64\n",
      "Lon                 29056 non-null float64\n",
      "Zip Code            29056 non-null int64\n",
      "IP                  29056 non-null object\n",
      "NormalDate          29056 non-null datetime64[ns]\n",
      "AppB-N              29056 non-null object\n",
      "DeviceM-B           29056 non-null object\n",
      "Location            29056 non-null object\n",
      "dtypes: datetime64[ns](1), float64(2), int64(1), object(8)\n",
      "memory usage: 2.7+ MB\n"
     ]
    }
   ],
   "source": [
    "#let's check\n",
    "dataapp.info()"
   ]
  },
  {
   "cell_type": "code",
   "execution_count": 29,
   "metadata": {},
   "outputs": [
    {
     "data": {
      "text/html": [
       "<div>\n",
       "<style scoped>\n",
       "    .dataframe tbody tr th:only-of-type {\n",
       "        vertical-align: middle;\n",
       "    }\n",
       "\n",
       "    .dataframe tbody tr th {\n",
       "        vertical-align: top;\n",
       "    }\n",
       "\n",
       "    .dataframe thead th {\n",
       "        text-align: right;\n",
       "    }\n",
       "</style>\n",
       "<table border=\"1\" class=\"dataframe\">\n",
       "  <thead>\n",
       "    <tr style=\"text-align: right;\">\n",
       "      <th></th>\n",
       "      <th>MAID</th>\n",
       "      <th>UserAgent</th>\n",
       "      <th>Operating System</th>\n",
       "      <th>Language</th>\n",
       "      <th>Lat</th>\n",
       "      <th>Lon</th>\n",
       "      <th>Zip Code</th>\n",
       "      <th>IP</th>\n",
       "      <th>NormalDate</th>\n",
       "      <th>AppB-N</th>\n",
       "      <th>DeviceM-B</th>\n",
       "      <th>Location</th>\n",
       "    </tr>\n",
       "  </thead>\n",
       "  <tbody>\n",
       "    <tr>\n",
       "      <td>0</td>\n",
       "      <td>730e5cac-ea13-41fb-886c-e5d8459a2304</td>\n",
       "      <td>Mozilla/5.0 (Linux; Android 9; moto e5 play Bu...</td>\n",
       "      <td>Android</td>\n",
       "      <td>en</td>\n",
       "      <td>34.2278</td>\n",
       "      <td>-118.442</td>\n",
       "      <td>91331</td>\n",
       "      <td>172.114.113.0</td>\n",
       "      <td>1970-01-01 00:26:11.815</td>\n",
       "      <td>com.freerange360.mpp.businessinsiderBusiness I...</td>\n",
       "      <td>Moto E5 PlayMotorola</td>\n",
       "      <td>USAPacoima</td>\n",
       "    </tr>\n",
       "  </tbody>\n",
       "</table>\n",
       "</div>"
      ],
      "text/plain": [
       "                                   MAID  \\\n",
       "0  730e5cac-ea13-41fb-886c-e5d8459a2304   \n",
       "\n",
       "                                           UserAgent Operating System  \\\n",
       "0  Mozilla/5.0 (Linux; Android 9; moto e5 play Bu...          Android   \n",
       "\n",
       "  Language      Lat      Lon  Zip Code             IP              NormalDate  \\\n",
       "0       en  34.2278 -118.442     91331  172.114.113.0 1970-01-01 00:26:11.815   \n",
       "\n",
       "                                              AppB-N             DeviceM-B  \\\n",
       "0  com.freerange360.mpp.businessinsiderBusiness I...  Moto E5 PlayMotorola   \n",
       "\n",
       "     Location  \n",
       "0  USAPacoima  "
      ]
     },
     "execution_count": 29,
     "metadata": {},
     "output_type": "execute_result"
    }
   ],
   "source": [
    "#let's see\n",
    "dataapp.head(1)"
   ]
  },
  {
   "cell_type": "markdown",
   "metadata": {},
   "source": [
    "## 7) taking a Random Sample"
   ]
  },
  {
   "cell_type": "markdown",
   "metadata": {},
   "source": [
    "Take a sample n = 10000"
   ]
  },
  {
   "cell_type": "code",
   "execution_count": 30,
   "metadata": {},
   "outputs": [],
   "source": [
    "import random"
   ]
  },
  {
   "cell_type": "code",
   "execution_count": 31,
   "metadata": {},
   "outputs": [],
   "source": [
    "#take a sample\n",
    "dataappsample10000 = dataapp.sample(n = 10000) "
   ]
  },
  {
   "cell_type": "code",
   "execution_count": 32,
   "metadata": {},
   "outputs": [
    {
     "data": {
      "text/html": [
       "<div>\n",
       "<style scoped>\n",
       "    .dataframe tbody tr th:only-of-type {\n",
       "        vertical-align: middle;\n",
       "    }\n",
       "\n",
       "    .dataframe tbody tr th {\n",
       "        vertical-align: top;\n",
       "    }\n",
       "\n",
       "    .dataframe thead th {\n",
       "        text-align: right;\n",
       "    }\n",
       "</style>\n",
       "<table border=\"1\" class=\"dataframe\">\n",
       "  <thead>\n",
       "    <tr style=\"text-align: right;\">\n",
       "      <th></th>\n",
       "      <th>MAID</th>\n",
       "      <th>UserAgent</th>\n",
       "      <th>Operating System</th>\n",
       "      <th>Language</th>\n",
       "      <th>Lat</th>\n",
       "      <th>Lon</th>\n",
       "      <th>Zip Code</th>\n",
       "      <th>IP</th>\n",
       "      <th>NormalDate</th>\n",
       "      <th>AppB-N</th>\n",
       "      <th>DeviceM-B</th>\n",
       "      <th>Location</th>\n",
       "    </tr>\n",
       "  </thead>\n",
       "  <tbody>\n",
       "    <tr>\n",
       "      <td>3617</td>\n",
       "      <td>c7081e5d-3c35-4593-9e84-23c4641b296a</td>\n",
       "      <td>Mozilla/5.0 (iPhone; CPU iPhone OS 13_1_3 like...</td>\n",
       "      <td>Apple iOS</td>\n",
       "      <td>en</td>\n",
       "      <td>0.0</td>\n",
       "      <td>0.0</td>\n",
       "      <td>90640</td>\n",
       "      <td>107.77.229.0</td>\n",
       "      <td>1970-01-01 00:26:11.815</td>\n",
       "      <td>502958939Long Beach Press-Telegram</td>\n",
       "      <td>iPhoneApple</td>\n",
       "      <td>USAMontebello</td>\n",
       "    </tr>\n",
       "  </tbody>\n",
       "</table>\n",
       "</div>"
      ],
      "text/plain": [
       "                                      MAID  \\\n",
       "3617  c7081e5d-3c35-4593-9e84-23c4641b296a   \n",
       "\n",
       "                                              UserAgent Operating System  \\\n",
       "3617  Mozilla/5.0 (iPhone; CPU iPhone OS 13_1_3 like...        Apple iOS   \n",
       "\n",
       "     Language  Lat  Lon  Zip Code            IP              NormalDate  \\\n",
       "3617       en  0.0  0.0     90640  107.77.229.0 1970-01-01 00:26:11.815   \n",
       "\n",
       "                                  AppB-N    DeviceM-B       Location  \n",
       "3617  502958939Long Beach Press-Telegram  iPhoneApple  USAMontebello  "
      ]
     },
     "execution_count": 32,
     "metadata": {},
     "output_type": "execute_result"
    }
   ],
   "source": [
    "#let's see\n",
    "dataappsample10000.head(1)"
   ]
  },
  {
   "cell_type": "code",
   "execution_count": 33,
   "metadata": {},
   "outputs": [
    {
     "data": {
      "text/plain": [
       "Index(['MAID', 'UserAgent', 'Operating System', 'Language', 'Lat', 'Lon',\n",
       "       'Zip Code', 'IP', 'NormalDate', 'AppB-N', 'DeviceM-B', 'Location'],\n",
       "      dtype='object')"
      ]
     },
     "execution_count": 33,
     "metadata": {},
     "output_type": "execute_result"
    }
   ],
   "source": [
    "#let's check\n",
    "dataappsample10000.columns"
   ]
  },
  {
   "cell_type": "markdown",
   "metadata": {},
   "source": [
    "##### i want to set the target of my model to be the operation system, without info about DeviceM-B(device model, device bundle), but this column is categorical, so i'll proceed with Approach \"Find and Replace\" whuch meand i'll replace each categorical variable with a number.\n"
   ]
  },
  {
   "cell_type": "code",
   "execution_count": 34,
   "metadata": {},
   "outputs": [
    {
     "data": {
      "text/plain": [
       "Android      5349\n",
       "Apple iOS    4420\n",
       "Roku OS       227\n",
       "Tizen           2\n",
       "Unknown         2\n",
       "Name: Operating System, dtype: int64"
      ]
     },
     "execution_count": 34,
     "metadata": {},
     "output_type": "execute_result"
    }
   ],
   "source": [
    "#check how many unique categorical values under \"Operating system\"\n",
    "dataappsample10000['Operating System'].value_counts()"
   ]
  },
  {
   "cell_type": "code",
   "execution_count": 35,
   "metadata": {},
   "outputs": [],
   "source": [
    "#Name categorical values in \"operating values\" with numbers\n",
    "OS = {\"Operating System\":{\"Apple iOS\": 1, \"Android\": 2, 'Roku OS':3, 'Tizen':4, 'Unknown':0, 'Chrome OS':6, 'Linux': 6}}"
   ]
  },
  {
   "cell_type": "code",
   "execution_count": 36,
   "metadata": {},
   "outputs": [
    {
     "data": {
      "text/html": [
       "<div>\n",
       "<style scoped>\n",
       "    .dataframe tbody tr th:only-of-type {\n",
       "        vertical-align: middle;\n",
       "    }\n",
       "\n",
       "    .dataframe tbody tr th {\n",
       "        vertical-align: top;\n",
       "    }\n",
       "\n",
       "    .dataframe thead th {\n",
       "        text-align: right;\n",
       "    }\n",
       "</style>\n",
       "<table border=\"1\" class=\"dataframe\">\n",
       "  <thead>\n",
       "    <tr style=\"text-align: right;\">\n",
       "      <th></th>\n",
       "      <th>MAID</th>\n",
       "      <th>UserAgent</th>\n",
       "      <th>Operating System</th>\n",
       "      <th>Language</th>\n",
       "      <th>Lat</th>\n",
       "      <th>Lon</th>\n",
       "      <th>Zip Code</th>\n",
       "      <th>IP</th>\n",
       "      <th>NormalDate</th>\n",
       "      <th>AppB-N</th>\n",
       "      <th>DeviceM-B</th>\n",
       "      <th>Location</th>\n",
       "    </tr>\n",
       "  </thead>\n",
       "  <tbody>\n",
       "    <tr>\n",
       "      <td>3617</td>\n",
       "      <td>c7081e5d-3c35-4593-9e84-23c4641b296a</td>\n",
       "      <td>Mozilla/5.0 (iPhone; CPU iPhone OS 13_1_3 like...</td>\n",
       "      <td>1</td>\n",
       "      <td>en</td>\n",
       "      <td>0.0000</td>\n",
       "      <td>0.0000</td>\n",
       "      <td>90640</td>\n",
       "      <td>107.77.229.0</td>\n",
       "      <td>1970-01-01 00:26:11.815</td>\n",
       "      <td>502958939Long Beach Press-Telegram</td>\n",
       "      <td>iPhoneApple</td>\n",
       "      <td>USAMontebello</td>\n",
       "    </tr>\n",
       "    <tr>\n",
       "      <td>14313</td>\n",
       "      <td>37ba9fc6-0306-42f5-a4d3-bdd67f91e202</td>\n",
       "      <td>Dalvik/2.1.0 (Linux; U; Android 9; SM-S767VL B...</td>\n",
       "      <td>2</td>\n",
       "      <td>en</td>\n",
       "      <td>0.0000</td>\n",
       "      <td>0.0000</td>\n",
       "      <td>35043</td>\n",
       "      <td>174.255.195.0</td>\n",
       "      <td>1970-01-01 00:26:11.815</td>\n",
       "      <td>com.myyearbook.mMeetMe: Chat &amp; Meet New People</td>\n",
       "      <td>SM-S767VLTracfone</td>\n",
       "      <td>USAChelsea</td>\n",
       "    </tr>\n",
       "    <tr>\n",
       "      <td>16422</td>\n",
       "      <td>20c9ad45-d77b-47e1-9334-e64723fae6da</td>\n",
       "      <td>Mozilla/5.0 (Linux; Android 7.0; LG-M430 Build...</td>\n",
       "      <td>2</td>\n",
       "      <td>en</td>\n",
       "      <td>0.0000</td>\n",
       "      <td>0.0000</td>\n",
       "      <td>92028</td>\n",
       "      <td>108.247.38.0</td>\n",
       "      <td>1970-01-01 00:26:11.815</td>\n",
       "      <td>com.enflick.android.TextNowTextNow: Free Texti...</td>\n",
       "      <td>M430Cricket</td>\n",
       "      <td>USAFallbrook</td>\n",
       "    </tr>\n",
       "    <tr>\n",
       "      <td>5263</td>\n",
       "      <td>e8e6793d-eb9b-4775-beea-e7ad9364222d</td>\n",
       "      <td>Mozilla/5.0 (Linux; Android 8.0.0; SM-N950U Bu...</td>\n",
       "      <td>2</td>\n",
       "      <td>en</td>\n",
       "      <td>33.7015</td>\n",
       "      <td>-117.7528</td>\n",
       "      <td>92604</td>\n",
       "      <td>68.101.97.0</td>\n",
       "      <td>1970-01-01 00:26:11.815</td>\n",
       "      <td>com.moneyracestudios.moneyrace2Money Race 2</td>\n",
       "      <td>SM-N950USamsung</td>\n",
       "      <td>USAIrvine</td>\n",
       "    </tr>\n",
       "    <tr>\n",
       "      <td>8715</td>\n",
       "      <td>ab0edc1e-ab6e-4f2f-85cf-3c1ceda954ba</td>\n",
       "      <td>Mozilla/5.0 (iPhone; CPU iPhone OS 13_1_3 like...</td>\n",
       "      <td>1</td>\n",
       "      <td>en</td>\n",
       "      <td>40.2783</td>\n",
       "      <td>-111.7198</td>\n",
       "      <td>84058</td>\n",
       "      <td>98.202.108.0</td>\n",
       "      <td>1970-01-01 00:26:11.815</td>\n",
       "      <td>733948370Movie Poster Mania</td>\n",
       "      <td>iPhoneApple</td>\n",
       "      <td>USAOrem</td>\n",
       "    </tr>\n",
       "  </tbody>\n",
       "</table>\n",
       "</div>"
      ],
      "text/plain": [
       "                                       MAID  \\\n",
       "3617   c7081e5d-3c35-4593-9e84-23c4641b296a   \n",
       "14313  37ba9fc6-0306-42f5-a4d3-bdd67f91e202   \n",
       "16422  20c9ad45-d77b-47e1-9334-e64723fae6da   \n",
       "5263   e8e6793d-eb9b-4775-beea-e7ad9364222d   \n",
       "8715   ab0edc1e-ab6e-4f2f-85cf-3c1ceda954ba   \n",
       "\n",
       "                                               UserAgent Operating System  \\\n",
       "3617   Mozilla/5.0 (iPhone; CPU iPhone OS 13_1_3 like...                1   \n",
       "14313  Dalvik/2.1.0 (Linux; U; Android 9; SM-S767VL B...                2   \n",
       "16422  Mozilla/5.0 (Linux; Android 7.0; LG-M430 Build...                2   \n",
       "5263   Mozilla/5.0 (Linux; Android 8.0.0; SM-N950U Bu...                2   \n",
       "8715   Mozilla/5.0 (iPhone; CPU iPhone OS 13_1_3 like...                1   \n",
       "\n",
       "      Language      Lat       Lon  Zip Code             IP  \\\n",
       "3617        en   0.0000    0.0000     90640   107.77.229.0   \n",
       "14313       en   0.0000    0.0000     35043  174.255.195.0   \n",
       "16422       en   0.0000    0.0000     92028   108.247.38.0   \n",
       "5263        en  33.7015 -117.7528     92604    68.101.97.0   \n",
       "8715        en  40.2783 -111.7198     84058   98.202.108.0   \n",
       "\n",
       "                   NormalDate  \\\n",
       "3617  1970-01-01 00:26:11.815   \n",
       "14313 1970-01-01 00:26:11.815   \n",
       "16422 1970-01-01 00:26:11.815   \n",
       "5263  1970-01-01 00:26:11.815   \n",
       "8715  1970-01-01 00:26:11.815   \n",
       "\n",
       "                                                  AppB-N          DeviceM-B  \\\n",
       "3617                  502958939Long Beach Press-Telegram        iPhoneApple   \n",
       "14313     com.myyearbook.mMeetMe: Chat & Meet New People  SM-S767VLTracfone   \n",
       "16422  com.enflick.android.TextNowTextNow: Free Texti...        M430Cricket   \n",
       "5263         com.moneyracestudios.moneyrace2Money Race 2    SM-N950USamsung   \n",
       "8715                         733948370Movie Poster Mania        iPhoneApple   \n",
       "\n",
       "            Location  \n",
       "3617   USAMontebello  \n",
       "14313     USAChelsea  \n",
       "16422   USAFallbrook  \n",
       "5263       USAIrvine  \n",
       "8715         USAOrem  "
      ]
     },
     "execution_count": 36,
     "metadata": {},
     "output_type": "execute_result"
    }
   ],
   "source": [
    "#Replace coategorical variable in \"Operating System\" with numbers like in OS dictionary\n",
    "dataappsample10000.replace(OS, inplace=True)\n",
    "\n",
    "#let's see\n",
    "dataappsample10000.head()"
   ]
  },
  {
   "cell_type": "markdown",
   "metadata": {},
   "source": [
    "set 'Operating System' as a target 'y'"
   ]
  },
  {
   "cell_type": "code",
   "execution_count": 37,
   "metadata": {},
   "outputs": [],
   "source": [
    "# 'Operating System' is the target\n",
    "data_targets = ['Operating System']"
   ]
  },
  {
   "cell_type": "code",
   "execution_count": 38,
   "metadata": {},
   "outputs": [
    {
     "data": {
      "text/html": [
       "<div>\n",
       "<style scoped>\n",
       "    .dataframe tbody tr th:only-of-type {\n",
       "        vertical-align: middle;\n",
       "    }\n",
       "\n",
       "    .dataframe tbody tr th {\n",
       "        vertical-align: top;\n",
       "    }\n",
       "\n",
       "    .dataframe thead th {\n",
       "        text-align: right;\n",
       "    }\n",
       "</style>\n",
       "<table border=\"1\" class=\"dataframe\">\n",
       "  <thead>\n",
       "    <tr style=\"text-align: right;\">\n",
       "      <th></th>\n",
       "      <th>Operating System</th>\n",
       "    </tr>\n",
       "  </thead>\n",
       "  <tbody>\n",
       "    <tr>\n",
       "      <td>3617</td>\n",
       "      <td>1</td>\n",
       "    </tr>\n",
       "    <tr>\n",
       "      <td>14313</td>\n",
       "      <td>2</td>\n",
       "    </tr>\n",
       "    <tr>\n",
       "      <td>16422</td>\n",
       "      <td>2</td>\n",
       "    </tr>\n",
       "    <tr>\n",
       "      <td>5263</td>\n",
       "      <td>2</td>\n",
       "    </tr>\n",
       "    <tr>\n",
       "      <td>8715</td>\n",
       "      <td>1</td>\n",
       "    </tr>\n",
       "  </tbody>\n",
       "</table>\n",
       "</div>"
      ],
      "text/plain": [
       "      Operating System\n",
       "3617                 1\n",
       "14313                2\n",
       "16422                2\n",
       "5263                 2\n",
       "8715                 1"
      ]
     },
     "execution_count": 38,
     "metadata": {},
     "output_type": "execute_result"
    }
   ],
   "source": [
    "# name the target 'y'\n",
    "y = dataappsample10000[data_targets]\n",
    "y.head()"
   ]
  },
  {
   "cell_type": "markdown",
   "metadata": {},
   "source": [
    "## 8)selecting \"Features\" of the model"
   ]
  },
  {
   "cell_type": "markdown",
   "metadata": {},
   "source": [
    "Now i need to select the features"
   ]
  },
  {
   "cell_type": "code",
   "execution_count": 39,
   "metadata": {},
   "outputs": [
    {
     "data": {
      "text/plain": [
       "Index(['MAID', 'UserAgent', 'Operating System', 'Language', 'Lat', 'Lon',\n",
       "       'Zip Code', 'IP', 'NormalDate', 'AppB-N', 'DeviceM-B', 'Location'],\n",
       "      dtype='object')"
      ]
     },
     "execution_count": 39,
     "metadata": {},
     "output_type": "execute_result"
    }
   ],
   "source": [
    "#check name of columns\n",
    "dataappsample10000.columns"
   ]
  },
  {
   "cell_type": "markdown",
   "metadata": {},
   "source": [
    "#### eliminate some features (eliminate all except..('Zip Code','IP', 'AppB-N', 'Location', 'Lat', 'Lon'))"
   ]
  },
  {
   "cell_type": "code",
   "execution_count": 40,
   "metadata": {},
   "outputs": [],
   "source": [
    "#selecting 'features' variables\n",
    "data_features = ['Zip Code','IP', 'AppB-N', 'Location', 'Lat', 'Lon']"
   ]
  },
  {
   "cell_type": "code",
   "execution_count": 41,
   "metadata": {},
   "outputs": [],
   "source": [
    "#name the \"features\" X\n",
    "X = dataappsample10000[data_features]"
   ]
  },
  {
   "cell_type": "code",
   "execution_count": 42,
   "metadata": {},
   "outputs": [
    {
     "name": "stdout",
     "output_type": "stream",
     "text": [
      "<class 'pandas.core.frame.DataFrame'>\n",
      "Int64Index: 10000 entries, 3617 to 2385\n",
      "Data columns (total 6 columns):\n",
      "Zip Code    10000 non-null int64\n",
      "IP          10000 non-null object\n",
      "AppB-N      10000 non-null object\n",
      "Location    10000 non-null object\n",
      "Lat         10000 non-null float64\n",
      "Lon         10000 non-null float64\n",
      "dtypes: float64(2), int64(1), object(3)\n",
      "memory usage: 546.9+ KB\n"
     ]
    }
   ],
   "source": [
    "X.info()"
   ]
  },
  {
   "cell_type": "code",
   "execution_count": 43,
   "metadata": {},
   "outputs": [
    {
     "data": {
      "text/html": [
       "<div>\n",
       "<style scoped>\n",
       "    .dataframe tbody tr th:only-of-type {\n",
       "        vertical-align: middle;\n",
       "    }\n",
       "\n",
       "    .dataframe tbody tr th {\n",
       "        vertical-align: top;\n",
       "    }\n",
       "\n",
       "    .dataframe thead th {\n",
       "        text-align: right;\n",
       "    }\n",
       "</style>\n",
       "<table border=\"1\" class=\"dataframe\">\n",
       "  <thead>\n",
       "    <tr style=\"text-align: right;\">\n",
       "      <th></th>\n",
       "      <th>Zip Code</th>\n",
       "      <th>Lat</th>\n",
       "      <th>Lon</th>\n",
       "    </tr>\n",
       "  </thead>\n",
       "  <tbody>\n",
       "    <tr>\n",
       "      <td>count</td>\n",
       "      <td>10000.000000</td>\n",
       "      <td>10000.000000</td>\n",
       "      <td>10000.000000</td>\n",
       "    </tr>\n",
       "    <tr>\n",
       "      <td>mean</td>\n",
       "      <td>58921.243000</td>\n",
       "      <td>26.714356</td>\n",
       "      <td>-69.794284</td>\n",
       "    </tr>\n",
       "    <tr>\n",
       "      <td>std</td>\n",
       "      <td>29915.664236</td>\n",
       "      <td>17.371909</td>\n",
       "      <td>46.585666</td>\n",
       "    </tr>\n",
       "    <tr>\n",
       "      <td>min</td>\n",
       "      <td>1002.000000</td>\n",
       "      <td>-1.000000</td>\n",
       "      <td>-160.038300</td>\n",
       "    </tr>\n",
       "    <tr>\n",
       "      <td>25%</td>\n",
       "      <td>32506.750000</td>\n",
       "      <td>0.000000</td>\n",
       "      <td>-101.753390</td>\n",
       "    </tr>\n",
       "    <tr>\n",
       "      <td>50%</td>\n",
       "      <td>60918.500000</td>\n",
       "      <td>34.034900</td>\n",
       "      <td>-84.292100</td>\n",
       "    </tr>\n",
       "    <tr>\n",
       "      <td>75%</td>\n",
       "      <td>89136.000000</td>\n",
       "      <td>39.737000</td>\n",
       "      <td>0.000000</td>\n",
       "    </tr>\n",
       "    <tr>\n",
       "      <td>max</td>\n",
       "      <td>99801.000000</td>\n",
       "      <td>70.636900</td>\n",
       "      <td>125.227356</td>\n",
       "    </tr>\n",
       "  </tbody>\n",
       "</table>\n",
       "</div>"
      ],
      "text/plain": [
       "           Zip Code           Lat           Lon\n",
       "count  10000.000000  10000.000000  10000.000000\n",
       "mean   58921.243000     26.714356    -69.794284\n",
       "std    29915.664236     17.371909     46.585666\n",
       "min     1002.000000     -1.000000   -160.038300\n",
       "25%    32506.750000      0.000000   -101.753390\n",
       "50%    60918.500000     34.034900    -84.292100\n",
       "75%    89136.000000     39.737000      0.000000\n",
       "max    99801.000000     70.636900    125.227356"
      ]
     },
     "execution_count": 43,
     "metadata": {},
     "output_type": "execute_result"
    }
   ],
   "source": [
    "#check measurements like mean,sd for the X\n",
    "X.describe()"
   ]
  },
  {
   "cell_type": "code",
   "execution_count": 44,
   "metadata": {},
   "outputs": [
    {
     "data": {
      "text/html": [
       "<div>\n",
       "<style scoped>\n",
       "    .dataframe tbody tr th:only-of-type {\n",
       "        vertical-align: middle;\n",
       "    }\n",
       "\n",
       "    .dataframe tbody tr th {\n",
       "        vertical-align: top;\n",
       "    }\n",
       "\n",
       "    .dataframe thead th {\n",
       "        text-align: right;\n",
       "    }\n",
       "</style>\n",
       "<table border=\"1\" class=\"dataframe\">\n",
       "  <thead>\n",
       "    <tr style=\"text-align: right;\">\n",
       "      <th></th>\n",
       "      <th>Zip Code</th>\n",
       "      <th>IP</th>\n",
       "      <th>AppB-N</th>\n",
       "      <th>Location</th>\n",
       "      <th>Lat</th>\n",
       "      <th>Lon</th>\n",
       "    </tr>\n",
       "  </thead>\n",
       "  <tbody>\n",
       "    <tr>\n",
       "      <td>3617</td>\n",
       "      <td>90640</td>\n",
       "      <td>107.77.229.0</td>\n",
       "      <td>502958939Long Beach Press-Telegram</td>\n",
       "      <td>USAMontebello</td>\n",
       "      <td>0.0000</td>\n",
       "      <td>0.0000</td>\n",
       "    </tr>\n",
       "    <tr>\n",
       "      <td>14313</td>\n",
       "      <td>35043</td>\n",
       "      <td>174.255.195.0</td>\n",
       "      <td>com.myyearbook.mMeetMe: Chat &amp; Meet New People</td>\n",
       "      <td>USAChelsea</td>\n",
       "      <td>0.0000</td>\n",
       "      <td>0.0000</td>\n",
       "    </tr>\n",
       "    <tr>\n",
       "      <td>16422</td>\n",
       "      <td>92028</td>\n",
       "      <td>108.247.38.0</td>\n",
       "      <td>com.enflick.android.TextNowTextNow: Free Texti...</td>\n",
       "      <td>USAFallbrook</td>\n",
       "      <td>0.0000</td>\n",
       "      <td>0.0000</td>\n",
       "    </tr>\n",
       "    <tr>\n",
       "      <td>5263</td>\n",
       "      <td>92604</td>\n",
       "      <td>68.101.97.0</td>\n",
       "      <td>com.moneyracestudios.moneyrace2Money Race 2</td>\n",
       "      <td>USAIrvine</td>\n",
       "      <td>33.7015</td>\n",
       "      <td>-117.7528</td>\n",
       "    </tr>\n",
       "    <tr>\n",
       "      <td>8715</td>\n",
       "      <td>84058</td>\n",
       "      <td>98.202.108.0</td>\n",
       "      <td>733948370Movie Poster Mania</td>\n",
       "      <td>USAOrem</td>\n",
       "      <td>40.2783</td>\n",
       "      <td>-111.7198</td>\n",
       "    </tr>\n",
       "  </tbody>\n",
       "</table>\n",
       "</div>"
      ],
      "text/plain": [
       "       Zip Code             IP  \\\n",
       "3617      90640   107.77.229.0   \n",
       "14313     35043  174.255.195.0   \n",
       "16422     92028   108.247.38.0   \n",
       "5263      92604    68.101.97.0   \n",
       "8715      84058   98.202.108.0   \n",
       "\n",
       "                                                  AppB-N       Location  \\\n",
       "3617                  502958939Long Beach Press-Telegram  USAMontebello   \n",
       "14313     com.myyearbook.mMeetMe: Chat & Meet New People     USAChelsea   \n",
       "16422  com.enflick.android.TextNowTextNow: Free Texti...   USAFallbrook   \n",
       "5263         com.moneyracestudios.moneyrace2Money Race 2      USAIrvine   \n",
       "8715                         733948370Movie Poster Mania        USAOrem   \n",
       "\n",
       "           Lat       Lon  \n",
       "3617    0.0000    0.0000  \n",
       "14313   0.0000    0.0000  \n",
       "16422   0.0000    0.0000  \n",
       "5263   33.7015 -117.7528  \n",
       "8715   40.2783 -111.7198  "
      ]
     },
     "execution_count": 44,
     "metadata": {},
     "output_type": "execute_result"
    }
   ],
   "source": [
    "X.head()"
   ]
  },
  {
   "cell_type": "markdown",
   "metadata": {},
   "source": [
    "so now, we should start building the model, but, models hate categorcal variables, so we have 3 approaches\n",
    "1) drop categorical columns, but this will decrease of course the accuracy of the model\n",
    "2) \"Label Encoding\" for ordinal variable, but our categorical variables here are nominal !\n",
    "3)\"One-Hot Encoding\" and i will go proceed with this approach"
   ]
  },
  {
   "cell_type": "markdown",
   "metadata": {},
   "source": [
    "mmmm, lt's make a last assess:\n",
    "our data here is:\n",
    "    1) structured\n",
    "    2) there is no lack of data or issue like that \n",
    "    3) supervised\n",
    "it came in mind 'descision tree' but Decision trees leave you with a difficult decision. A deep tree with lots of leaves will overfit, But a shallow tree with few leaves will perform poorly because it fails to capture as many distinctions in the raw data.\n",
    "\n",
    "mmmmm, now it came in mind \"Random forest\", The random forest uses many trees, and it makes a prediction by averaging the predictions of each component tree. It generally has much better predictive accuracy than a single decision tree and it works well with default parameters"
   ]
  },
  {
   "cell_type": "markdown",
   "metadata": {},
   "source": [
    "## 9) Choosing the model && Fix categorical variables"
   ]
  },
  {
   "cell_type": "code",
   "execution_count": 45,
   "metadata": {},
   "outputs": [],
   "source": [
    "#imprt few package for building the model \n",
    "from sklearn.ensemble import RandomForestRegressor\n",
    "from sklearn.metrics import mean_absolute_error\n",
    "from sklearn.model_selection import train_test_split"
   ]
  },
  {
   "cell_type": "markdown",
   "metadata": {},
   "source": [
    "splitting the data into 2 groups"
   ]
  },
  {
   "cell_type": "code",
   "execution_count": 46,
   "metadata": {},
   "outputs": [],
   "source": [
    "# Break off validation set from training data\n",
    "X_train, X_valid, y_train, y_valid = train_test_split(X, y,\n",
    "                                                      train_size=0.8, test_size=0.2,\n",
    "                                                      random_state=0)"
   ]
  },
  {
   "cell_type": "markdown",
   "metadata": {},
   "source": [
    "###### Random forest model"
   ]
  },
  {
   "cell_type": "code",
   "execution_count": 47,
   "metadata": {},
   "outputs": [],
   "source": [
    "# function for comparing different approaches\n",
    "def score_dataset(X_train, X_valid, y_train, y_valid):\n",
    "    model = RandomForestRegressor(n_estimators=100, random_state=0)\n",
    "    model.fit(X_train, y_train)\n",
    "    preds = model.predict(X_valid)\n",
    "    return mean_absolute_error(y_valid, preds)"
   ]
  },
  {
   "cell_type": "markdown",
   "metadata": {},
   "source": [
    "start fixing categorical variables"
   ]
  },
  {
   "cell_type": "code",
   "execution_count": 48,
   "metadata": {},
   "outputs": [
    {
     "name": "stdout",
     "output_type": "stream",
     "text": [
      "Categorical variables:\n",
      "['IP', 'AppB-N', 'Location']\n"
     ]
    }
   ],
   "source": [
    "# Get list of categorical variables\n",
    "s = (X.dtypes == 'object')\n",
    "object_cols = list(s[s].index)\n",
    "\n",
    "print(\"Categorical variables:\")\n",
    "print(object_cols)"
   ]
  },
  {
   "cell_type": "code",
   "execution_count": 49,
   "metadata": {},
   "outputs": [],
   "source": [
    "#import the approach choosen to fix categorical variables\n",
    "from sklearn.preprocessing import OneHotEncoder"
   ]
  },
  {
   "cell_type": "code",
   "execution_count": 50,
   "metadata": {},
   "outputs": [],
   "source": [
    "# Apply one-hot encoder to each column with categorical data\n",
    "OH_encoder = OneHotEncoder(handle_unknown='ignore', sparse=False)\n",
    "OH_cols_train = pd.DataFrame(OH_encoder.fit_transform(X_train[object_cols]))\n",
    "OH_cols_valid = pd.DataFrame(OH_encoder.transform(X_valid[object_cols]))"
   ]
  },
  {
   "cell_type": "code",
   "execution_count": 51,
   "metadata": {},
   "outputs": [],
   "source": [
    "# One-hot encoding removed index; put it back\n",
    "OH_cols_train.index = X_train.index\n",
    "OH_cols_valid.index = X_valid.index"
   ]
  },
  {
   "cell_type": "code",
   "execution_count": 52,
   "metadata": {},
   "outputs": [],
   "source": [
    "# Remove categorical columns (will replace with one-hot encoding)\n",
    "num_X_train = X_train.drop(object_cols, axis=1)\n",
    "num_X_valid = X_valid.drop(object_cols, axis=1)"
   ]
  },
  {
   "cell_type": "code",
   "execution_count": 53,
   "metadata": {},
   "outputs": [],
   "source": [
    "# Add one-hot encoded columns to numerical features\n",
    "OH_X_train = pd.concat([num_X_train, OH_cols_train], axis=1)\n",
    "OH_X_valid = pd.concat([num_X_valid, OH_cols_valid], axis=1)"
   ]
  },
  {
   "cell_type": "code",
   "execution_count": 54,
   "metadata": {},
   "outputs": [
    {
     "name": "stdout",
     "output_type": "stream",
     "text": [
      "MAE from Approach 3 (One-Hot Encoding):\n"
     ]
    },
    {
     "name": "stderr",
     "output_type": "stream",
     "text": [
      "C:\\Users\\hp\\Anaconda3\\lib\\site-packages\\ipykernel_launcher.py:4: DataConversionWarning: A column-vector y was passed when a 1d array was expected. Please change the shape of y to (n_samples,), for example using ravel().\n",
      "  after removing the cwd from sys.path.\n"
     ]
    },
    {
     "name": "stdout",
     "output_type": "stream",
     "text": [
      "0.06228\n"
     ]
    }
   ],
   "source": [
    "print(\"MAE from Approach 3 (One-Hot Encoding):\") \n",
    "print(score_dataset(OH_X_train, OH_X_valid, y_train, y_valid))"
   ]
  },
  {
   "cell_type": "markdown",
   "metadata": {},
   "source": [
    "so now we got a very low mean square error, sounds good, this means that our model is working good "
   ]
  },
  {
   "cell_type": "markdown",
   "metadata": {},
   "source": [
    "## 10)Conclusion"
   ]
  },
  {
   "cell_type": "markdown",
   "metadata": {},
   "source": [
    "from now to the future we can know the OS of the user without any info about mobile model/brand "
   ]
  }
 ],
 "metadata": {
  "kernelspec": {
   "display_name": "Python 3",
   "language": "python",
   "name": "python3"
  },
  "language_info": {
   "codemirror_mode": {
    "name": "ipython",
    "version": 3
   },
   "file_extension": ".py",
   "mimetype": "text/x-python",
   "name": "python",
   "nbconvert_exporter": "python",
   "pygments_lexer": "ipython3",
   "version": "3.7.4"
  }
 },
 "nbformat": 4,
 "nbformat_minor": 2
}
